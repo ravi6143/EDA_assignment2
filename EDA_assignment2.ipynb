{
 "cells": [
  {
   "cell_type": "markdown",
   "id": "0b923b9e-72cc-4da5-8756-0e61e14250c9",
   "metadata": {},
   "source": [
    "## Question - 1\n",
    "ans - "
   ]
  },
  {
   "cell_type": "code",
   "execution_count": 1,
   "id": "d75f6b24-539f-4df3-86a5-14a099c09817",
   "metadata": {},
   "outputs": [],
   "source": [
    "import pandas as pd\n",
    "import matplotlib.pyplot as plt\n",
    "import numpy as np\n",
    "from warnings import filterwarnings\n",
    "filterwarnings('ignore')\n",
    "\n",
    "import seaborn as sns"
   ]
  },
  {
   "cell_type": "code",
   "execution_count": 2,
   "id": "4bcb9236-34e5-4210-9d82-8566687a805c",
   "metadata": {},
   "outputs": [
    {
     "data": {
      "text/html": [
       "<div>\n",
       "<style scoped>\n",
       "    .dataframe tbody tr th:only-of-type {\n",
       "        vertical-align: middle;\n",
       "    }\n",
       "\n",
       "    .dataframe tbody tr th {\n",
       "        vertical-align: top;\n",
       "    }\n",
       "\n",
       "    .dataframe thead th {\n",
       "        text-align: right;\n",
       "    }\n",
       "</style>\n",
       "<table border=\"1\" class=\"dataframe\">\n",
       "  <thead>\n",
       "    <tr style=\"text-align: right;\">\n",
       "      <th></th>\n",
       "      <th>Airline</th>\n",
       "      <th>Date_of_Journey</th>\n",
       "      <th>Source</th>\n",
       "      <th>Destination</th>\n",
       "      <th>Route</th>\n",
       "      <th>Dep_Time</th>\n",
       "      <th>Arrival_Time</th>\n",
       "      <th>Duration</th>\n",
       "      <th>Total_Stops</th>\n",
       "      <th>Additional_Info</th>\n",
       "      <th>Price</th>\n",
       "    </tr>\n",
       "  </thead>\n",
       "  <tbody>\n",
       "    <tr>\n",
       "      <th>0</th>\n",
       "      <td>IndiGo</td>\n",
       "      <td>24/03/2019</td>\n",
       "      <td>Banglore</td>\n",
       "      <td>New Delhi</td>\n",
       "      <td>BLR → DEL</td>\n",
       "      <td>22:20</td>\n",
       "      <td>01:10 22 Mar</td>\n",
       "      <td>2h 50m</td>\n",
       "      <td>non-stop</td>\n",
       "      <td>No info</td>\n",
       "      <td>3897</td>\n",
       "    </tr>\n",
       "    <tr>\n",
       "      <th>1</th>\n",
       "      <td>Air India</td>\n",
       "      <td>1/05/2019</td>\n",
       "      <td>Kolkata</td>\n",
       "      <td>Banglore</td>\n",
       "      <td>CCU → IXR → BBI → BLR</td>\n",
       "      <td>05:50</td>\n",
       "      <td>13:15</td>\n",
       "      <td>7h 25m</td>\n",
       "      <td>2 stops</td>\n",
       "      <td>No info</td>\n",
       "      <td>7662</td>\n",
       "    </tr>\n",
       "    <tr>\n",
       "      <th>2</th>\n",
       "      <td>Jet Airways</td>\n",
       "      <td>9/06/2019</td>\n",
       "      <td>Delhi</td>\n",
       "      <td>Cochin</td>\n",
       "      <td>DEL → LKO → BOM → COK</td>\n",
       "      <td>09:25</td>\n",
       "      <td>04:25 10 Jun</td>\n",
       "      <td>19h</td>\n",
       "      <td>2 stops</td>\n",
       "      <td>No info</td>\n",
       "      <td>13882</td>\n",
       "    </tr>\n",
       "  </tbody>\n",
       "</table>\n",
       "</div>"
      ],
      "text/plain": [
       "       Airline Date_of_Journey    Source Destination                  Route  \\\n",
       "0       IndiGo      24/03/2019  Banglore   New Delhi              BLR → DEL   \n",
       "1    Air India       1/05/2019   Kolkata    Banglore  CCU → IXR → BBI → BLR   \n",
       "2  Jet Airways       9/06/2019     Delhi      Cochin  DEL → LKO → BOM → COK   \n",
       "\n",
       "  Dep_Time  Arrival_Time Duration Total_Stops Additional_Info  Price  \n",
       "0    22:20  01:10 22 Mar   2h 50m    non-stop         No info   3897  \n",
       "1    05:50         13:15   7h 25m     2 stops         No info   7662  \n",
       "2    09:25  04:25 10 Jun      19h     2 stops         No info  13882  "
      ]
     },
     "execution_count": 2,
     "metadata": {},
     "output_type": "execute_result"
    }
   ],
   "source": [
    "df = pd.read_excel('Data_Train.xlsx')\n",
    "df.head(3)"
   ]
  },
  {
   "cell_type": "code",
   "execution_count": 3,
   "id": "99e1eaf9-8ad0-4a56-89ce-52d5dcbd4bde",
   "metadata": {},
   "outputs": [
    {
     "data": {
      "text/plain": [
       "(10683, 11)"
      ]
     },
     "execution_count": 3,
     "metadata": {},
     "output_type": "execute_result"
    }
   ],
   "source": [
    "df.shape"
   ]
  },
  {
   "cell_type": "markdown",
   "id": "d1b76f95-6bd3-4080-920c-19ba38cbe1ed",
   "metadata": {},
   "source": [
    "## Observtions:-\n",
    "\n",
    "the dataset has 10683 rows and 11 columns "
   ]
  },
  {
   "cell_type": "code",
   "execution_count": null,
   "id": "ce309c59-a457-4a08-9b8f-8f5031174fef",
   "metadata": {},
   "outputs": [],
   "source": []
  },
  {
   "cell_type": "code",
   "execution_count": null,
   "id": "fd87938c-ba98-4d5d-8c08-c30009a20e5f",
   "metadata": {},
   "outputs": [],
   "source": []
  },
  {
   "cell_type": "code",
   "execution_count": null,
   "id": "4e77610c-89be-45a7-bd1c-216cacaa0fcf",
   "metadata": {},
   "outputs": [],
   "source": []
  },
  {
   "cell_type": "markdown",
   "id": "5b02b1b4-d290-4066-b681-279c2e448c67",
   "metadata": {},
   "source": [
    "## Question - 2\n",
    "ans - "
   ]
  },
  {
   "cell_type": "code",
   "execution_count": 4,
   "id": "c7176ee6-e892-4734-80b6-0dd6a5c317bb",
   "metadata": {},
   "outputs": [
    {
     "data": {
      "text/plain": [
       "<AxesSubplot: ylabel='Count'>"
      ]
     },
     "execution_count": 4,
     "metadata": {},
     "output_type": "execute_result"
    },
    {
     "data": {
      "image/png": "[encoded data removed]",
      "text/plain": [
       "<Figure size 640x480 with 1 Axes>"
      ]
     },
     "metadata": {},
     "output_type": "display_data"
    }
   ],
   "source": [
    "sns.histplot(df , )"
   ]
  },
  {
   "cell_type": "markdown",
   "id": "d92e3649-ba61-48f8-a08c-a82301ab71fd",
   "metadata": {},
   "source": [
    "## Observation :-\n",
    "\n",
    "* . distribution of dataset is left skewed"
   ]
  },
  {
   "cell_type": "code",
   "execution_count": null,
   "id": "9efd0f0e-d029-40f3-a437-f0bb01b84285",
   "metadata": {},
   "outputs": [],
   "source": []
  },
  {
   "cell_type": "code",
   "execution_count": null,
   "id": "ea002aa9-bb24-4733-93d2-a2aa0ea11923",
   "metadata": {},
   "outputs": [],
   "source": []
  },
  {
   "cell_type": "code",
   "execution_count": null,
   "id": "d1dd95cd-d6d9-4824-b390-47d8caa01cff",
   "metadata": {},
   "outputs": [],
   "source": []
  },
  {
   "cell_type": "markdown",
   "id": "f23985c4-49f1-4821-b002-d558d6170bb9",
   "metadata": {},
   "source": [
    "## Question - 3\n",
    "ans - "
   ]
  },
  {
   "cell_type": "code",
   "execution_count": 5,
   "id": "2ef99e14-382e-4e5f-a7bc-19517d894943",
   "metadata": {},
   "outputs": [
    {
     "data": {
      "text/plain": [
       "1759"
      ]
     },
     "execution_count": 5,
     "metadata": {},
     "output_type": "execute_result"
    }
   ],
   "source": [
    "df['Price'].min()"
   ]
  },
  {
   "cell_type": "code",
   "execution_count": 6,
   "id": "9f3062d7-402f-45a2-8d68-58eff8a4cd78",
   "metadata": {},
   "outputs": [
    {
     "data": {
      "text/plain": [
       "79512"
      ]
     },
     "execution_count": 6,
     "metadata": {},
     "output_type": "execute_result"
    }
   ],
   "source": [
    "df['Price'].max()"
   ]
  },
  {
   "cell_type": "markdown",
   "id": "65d378f9-b6b3-43ef-aeac-3a26e3bde23d",
   "metadata": {},
   "source": [
    "## Observation :-\n",
    "\n",
    "* . range of flight price is 1759 minimum price and 79512 maximum price"
   ]
  },
  {
   "cell_type": "code",
   "execution_count": null,
   "id": "bfbffb17-0fbe-46d9-a322-c89c5eed199a",
   "metadata": {},
   "outputs": [],
   "source": []
  },
  {
   "cell_type": "code",
   "execution_count": null,
   "id": "305110d4-85c4-4376-aedb-bad3879777e5",
   "metadata": {},
   "outputs": [],
   "source": []
  },
  {
   "cell_type": "code",
   "execution_count": null,
   "id": "4b1bbdee-bc13-4f03-804f-24fb8f3a0a35",
   "metadata": {},
   "outputs": [],
   "source": []
  },
  {
   "cell_type": "markdown",
   "id": "0dffdc04-d59d-47a5-8eb5-5633a2f09ea9",
   "metadata": {},
   "source": [
    "## Question - 4\n",
    "ans - "
   ]
  },
  {
   "cell_type": "code",
   "execution_count": 7,
   "id": "fb13bbcc-7651-434f-aa34-dd24d5e54ef1",
   "metadata": {},
   "outputs": [
    {
     "data": {
      "text/plain": [
       "{'whiskers': [<matplotlib.lines.Line2D at 0x7f3f583c2350>,\n",
       "  <matplotlib.lines.Line2D at 0x7f3f583491e0>,\n",
       "  <matplotlib.lines.Line2D at 0x7f3f5834a200>,\n",
       "  <matplotlib.lines.Line2D at 0x7f3f5834a4a0>,\n",
       "  <matplotlib.lines.Line2D at 0x7f3f5834b460>,\n",
       "  <matplotlib.lines.Line2D at 0x7f3f5834b700>,\n",
       "  <matplotlib.lines.Line2D at 0x7f3f500d43a0>,\n",
       "  <matplotlib.lines.Line2D at 0x7f3f500d4640>,\n",
       "  <matplotlib.lines.Line2D at 0x7f3f584bac50>,\n",
       "  <matplotlib.lines.Line2D at 0x7f3f584babc0>,\n",
       "  <matplotlib.lines.Line2D at 0x7f3f584b5360>,\n",
       "  <matplotlib.lines.Line2D at 0x7f3f584b7070>,\n",
       "  <matplotlib.lines.Line2D at 0x7f3f58516110>,\n",
       "  <matplotlib.lines.Line2D at 0x7f3f58515de0>,\n",
       "  <matplotlib.lines.Line2D at 0x7f3f500d5e10>,\n",
       "  <matplotlib.lines.Line2D at 0x7f3f500d60b0>,\n",
       "  <matplotlib.lines.Line2D at 0x7f3f500d7070>,\n",
       "  <matplotlib.lines.Line2D at 0x7f3f500d7310>,\n",
       "  <matplotlib.lines.Line2D at 0x7f3f5012c310>,\n",
       "  <matplotlib.lines.Line2D at 0x7f3f5012c5b0>,\n",
       "  <matplotlib.lines.Line2D at 0x7f3f5012d570>,\n",
       "  <matplotlib.lines.Line2D at 0x7f3f5012d810>,\n",
       "  <matplotlib.lines.Line2D at 0x7f3f5012e7d0>,\n",
       "  <matplotlib.lines.Line2D at 0x7f3f5012ea70>],\n",
       " 'caps': [<matplotlib.lines.Line2D at 0x7f3f583494b0>,\n",
       "  <matplotlib.lines.Line2D at 0x7f3f58349750>,\n",
       "  <matplotlib.lines.Line2D at 0x7f3f5834a740>,\n",
       "  <matplotlib.lines.Line2D at 0x7f3f5834a9e0>,\n",
       "  <matplotlib.lines.Line2D at 0x7f3f5834b9a0>,\n",
       "  <matplotlib.lines.Line2D at 0x7f3f5834bc40>,\n",
       "  <matplotlib.lines.Line2D at 0x7f3f500d48e0>,\n",
       "  <matplotlib.lines.Line2D at 0x7f3f500d4b80>,\n",
       "  <matplotlib.lines.Line2D at 0x7f3f584bae30>,\n",
       "  <matplotlib.lines.Line2D at 0x7f3f583c1fc0>,\n",
       "  <matplotlib.lines.Line2D at 0x7f3f5828c910>,\n",
       "  <matplotlib.lines.Line2D at 0x7f3f58c4e110>,\n",
       "  <matplotlib.lines.Line2D at 0x7f3f585141c0>,\n",
       "  <matplotlib.lines.Line2D at 0x7f3f500d5390>,\n",
       "  <matplotlib.lines.Line2D at 0x7f3f500d6350>,\n",
       "  <matplotlib.lines.Line2D at 0x7f3f500d65f0>,\n",
       "  <matplotlib.lines.Line2D at 0x7f3f500d75b0>,\n",
       "  <matplotlib.lines.Line2D at 0x7f3f500d7850>,\n",
       "  <matplotlib.lines.Line2D at 0x7f3f5012c850>,\n",
       "  <matplotlib.lines.Line2D at 0x7f3f5012caf0>,\n",
       "  <matplotlib.lines.Line2D at 0x7f3f5012dab0>,\n",
       "  <matplotlib.lines.Line2D at 0x7f3f5012dd50>,\n",
       "  <matplotlib.lines.Line2D at 0x7f3f5012ed10>,\n",
       "  <matplotlib.lines.Line2D at 0x7f3f5012efb0>],\n",
       " 'boxes': [<matplotlib.lines.Line2D at 0x7f3f583c2dd0>,\n",
       "  <matplotlib.lines.Line2D at 0x7f3f58349f60>,\n",
       "  <matplotlib.lines.Line2D at 0x7f3f5834b1c0>,\n",
       "  <matplotlib.lines.Line2D at 0x7f3f500d4100>,\n",
       "  <matplotlib.lines.Line2D at 0x7f3f585e42b0>,\n",
       "  <matplotlib.lines.Line2D at 0x7f3f584b4b50>,\n",
       "  <matplotlib.lines.Line2D at 0x7f3f58515b10>,\n",
       "  <matplotlib.lines.Line2D at 0x7f3f500d5b70>,\n",
       "  <matplotlib.lines.Line2D at 0x7f3f500d6dd0>,\n",
       "  <matplotlib.lines.Line2D at 0x7f3f5012c070>,\n",
       "  <matplotlib.lines.Line2D at 0x7f3f5012d2d0>,\n",
       "  <matplotlib.lines.Line2D at 0x7f3f5012e530>],\n",
       " 'medians': [<matplotlib.lines.Line2D at 0x7f3f583499f0>,\n",
       "  <matplotlib.lines.Line2D at 0x7f3f5834ac80>,\n",
       "  <matplotlib.lines.Line2D at 0x7f3f5834bb80>,\n",
       "  <matplotlib.lines.Line2D at 0x7f3f500d4e20>,\n",
       "  <matplotlib.lines.Line2D at 0x7f3f583c2680>,\n",
       "  <matplotlib.lines.Line2D at 0x7f3f585149d0>,\n",
       "  <matplotlib.lines.Line2D at 0x7f3f500d5630>,\n",
       "  <matplotlib.lines.Line2D at 0x7f3f500d6890>,\n",
       "  <matplotlib.lines.Line2D at 0x7f3f500d7af0>,\n",
       "  <matplotlib.lines.Line2D at 0x7f3f5012cd90>,\n",
       "  <matplotlib.lines.Line2D at 0x7f3f5012dff0>,\n",
       "  <matplotlib.lines.Line2D at 0x7f3f5012f250>],\n",
       " 'fliers': [<matplotlib.lines.Line2D at 0x7f3f58349c90>,\n",
       "  <matplotlib.lines.Line2D at 0x7f3f5834af20>,\n",
       "  <matplotlib.lines.Line2D at 0x7f3f5834be20>,\n",
       "  <matplotlib.lines.Line2D at 0x7f3f500d50c0>,\n",
       "  <matplotlib.lines.Line2D at 0x7f3f584b4040>,\n",
       "  <matplotlib.lines.Line2D at 0x7f3f585158a0>,\n",
       "  <matplotlib.lines.Line2D at 0x7f3f500d58d0>,\n",
       "  <matplotlib.lines.Line2D at 0x7f3f500d6b30>,\n",
       "  <matplotlib.lines.Line2D at 0x7f3f500d7d90>,\n",
       "  <matplotlib.lines.Line2D at 0x7f3f5012d030>,\n",
       "  <matplotlib.lines.Line2D at 0x7f3f5012e290>,\n",
       "  <matplotlib.lines.Line2D at 0x7f3f5012f4f0>],\n",
       " 'means': []}"
      ]
     },
     "execution_count": 7,
     "metadata": {},
     "output_type": "execute_result"
    },
    {
     "data": {
      "image/png": "[encoded data removed]",
      "text/plain": [
       "<Figure size 800x500 with 1 Axes>"
      ]
     },
     "metadata": {},
     "output_type": "display_data"
    }
   ],
   "source": [
    "plt.figure(figsize = (8,5))\n",
    "plt.xlabel('Airline')\n",
    "plt.xticks(rotation = 90)\n",
    "plt.ylabel('Price')\n",
    "plt.grid(axis = 'y')\n",
    "\n",
    "plt.boxplot([df[df['Airline'] == airline]['Price'] for airline in df['Airline'].unique()] , labels = df['Airline'].unique())\n"
   ]
  },
  {
   "cell_type": "markdown",
   "id": "2cbadaad-4c7b-4a8d-8054-fa4b4c84159e",
   "metadata": {},
   "source": [
    "## Observation:-\n",
    "\n",
    "1. jet airways business airline has the highest price in the dataset\n",
    "2. Spicejet airline has the lowest price in the datset\n"
   ]
  },
  {
   "cell_type": "code",
   "execution_count": null,
   "id": "98e60180-0e0a-42af-93b1-d50654db2130",
   "metadata": {},
   "outputs": [],
   "source": []
  },
  {
   "cell_type": "code",
   "execution_count": null,
   "id": "794e4426-7ce8-459f-83cf-57638d656444",
   "metadata": {},
   "outputs": [],
   "source": []
  },
  {
   "cell_type": "code",
   "execution_count": null,
   "id": "8ccae21a-7af1-4525-86c0-ca1cdcd4e89e",
   "metadata": {},
   "outputs": [],
   "source": []
  },
  {
   "cell_type": "markdown",
   "id": "3c1eb237-7003-44b9-aabd-33e19c27eb54",
   "metadata": {},
   "source": [
    "## Quesiton - 5\n",
    "ans-"
   ]
  },
  {
   "cell_type": "code",
   "execution_count": 8,
   "id": "020bada4-97d5-4c04-8969-44988c232991",
   "metadata": {},
   "outputs": [
    {
     "name": "stdout",
     "output_type": "stream",
     "text": [
      "Outliers:\n",
      "                    Airline Date_of_Journey    Source Destination  \\\n",
      "123               Air India       1/03/2019     Delhi      Cochin   \n",
      "396       Multiple carriers       1/03/2019     Delhi      Cochin   \n",
      "486             Jet Airways      01/03/2019  Banglore   New Delhi   \n",
      "510             Jet Airways      01/03/2019  Banglore   New Delhi   \n",
      "597               Air India       6/03/2019    Mumbai   Hyderabad   \n",
      "...                     ...             ...       ...         ...   \n",
      "10353           Jet Airways       6/03/2019    Mumbai   Hyderabad   \n",
      "10364  Jet Airways Business      01/03/2019  Banglore   New Delhi   \n",
      "10383           Jet Airways      01/03/2019  Banglore   New Delhi   \n",
      "10439           Jet Airways      01/03/2019  Banglore   New Delhi   \n",
      "10511             Air India      01/03/2019  Banglore   New Delhi   \n",
      "\n",
      "                       Route Dep_Time  Arrival_Time Duration Total_Stops  \\\n",
      "123          DEL → BOM → COK    23:00  19:15 02 Mar  20h 15m      1 stop   \n",
      "396          DEL → BOM → COK    12:50         19:15   6h 25m      1 stop   \n",
      "486          BLR → BOM → DEL    08:55         15:15   6h 20m      1 stop   \n",
      "510          BLR → BOM → DEL    07:00         12:25   5h 25m      1 stop   \n",
      "597    BOM → JDH → DEL → HYD    09:40  15:15 07 Mar  29h 35m     2 stops   \n",
      "...                      ...      ...           ...      ...         ...   \n",
      "10353  BOM → BDQ → DEL → HYD    19:50  16:50 07 Mar      21h     2 stops   \n",
      "10364        BLR → MAA → DEL    09:45         14:25   4h 40m      1 stop   \n",
      "10383        BLR → BOM → DEL    07:00  05:05 02 Mar   22h 5m      1 stop   \n",
      "10439        BLR → BOM → DEL    18:40  09:00 02 Mar  14h 20m      1 stop   \n",
      "10511  BLR → BOM → BHO → DEL    06:45  09:25 02 Mar  26h 40m     2 stops   \n",
      "\n",
      "      Additional_Info  Price  \n",
      "123           No info  27430  \n",
      "396           No info  36983  \n",
      "486           No info  26890  \n",
      "510           No info  26890  \n",
      "597           No info  25139  \n",
      "...               ...    ...  \n",
      "10353         No info  24210  \n",
      "10364  Business class  57209  \n",
      "10383         No info  26890  \n",
      "10439         No info  31825  \n",
      "10511  2 Long layover  26480  \n",
      "\n",
      "[94 rows x 11 columns]\n"
     ]
    }
   ],
   "source": [
    "\n",
    "\n",
    "\n",
    "Q1 = df['Price'].quantile(0.25)\n",
    "Q3 = df['Price'].quantile(0.75)\n",
    "\n",
    "IQR = Q3 - Q1\n",
    "\n",
    "\n",
    "lower_bound = Q1 - 1.5 * IQR\n",
    "upper_bound = Q3 + 1.5 * IQR\n",
    "\n",
    "outliers = df[(df['Price'] < lower_bound) | (df['Price'] > upper_bound)]\n",
    "print(\"Outliers:\")\n",
    "print(outliers)\n"
   ]
  },
  {
   "cell_type": "markdown",
   "id": "d43c317c-a2d0-4cba-984e-3f76f14dc64c",
   "metadata": {},
   "source": [
    "1. Statistical Measures:\n",
    "\n",
    "Outliers can distort common statistical measures such as the mean, variance, and standard deviation. The mean, in particular, is highly sensitive to extreme values, often leading to a skewed estimate of the central tendency of the data.\n",
    "\n",
    "2. Parametric Analyses:\n",
    "\n",
    "Outliers can violate the assumptions of many parametric statistical tests (e.g., t-tests, ANOVA, linear regression) that assume normality and homogeneity of variance. This can lead to biased results or affect the accuracy of inferential statistics.\n",
    "\n",
    "3. Data Distribution:\n",
    "\n",
    "Outliers may affect the perceived distribution of the data. For instance, if outliers exist, the data might seem more spread out than it actually is, leading to incorrect interpretations of the spread or variability.\n",
    "\n",
    "4. Machine Learning Models:\n",
    "\n",
    "In machine learning, outliers can significantly impact model performance. They might skew the training process, leading to models that don't generalize well to new data or cause models to prioritize fitting to these extreme values, reducing predictive accuracy.\n",
    "\n",
    "5. Robustness of Results:\n",
    "\n",
    "Outliers can influence the robustness of statistical analyses. Removing or handling outliers can significantly change the outcomes of analyses, making interpretations less reliable.\n",
    "\n",
    "6. Risk of Misinterpretation:\n",
    "\n",
    "Ignoring outliers or not appropriately handling them can lead to misleading conclusions or misinterpretation of results. It's crucial to understand the nature and cause of outliers before deciding how to deal with them.\n",
    "\n",
    "7. Anomaly Detection or Insights:\n",
    "\n",
    "Sometimes outliers are genuine and represent important anomalies or extreme events in the data. They could provide valuable insights or indicate specific patterns or issues that need attention.\n",
    "\n",
    "8. Impact on Visualizations:\n",
    "\n",
    "Outliers can distort visualizations like histograms, boxplots, and scatterplots, making it challenging to visualize the actual distribution or relationships among the majority of data points."
   ]
  },
  {
   "cell_type": "code",
   "execution_count": null,
   "id": "af11f9c0-f242-4836-b8eb-d2c375ee92bf",
   "metadata": {},
   "outputs": [],
   "source": []
  },
  {
   "cell_type": "code",
   "execution_count": null,
   "id": "581b71fa-46b1-4185-8b92-bfd7d2bd3dcd",
   "metadata": {},
   "outputs": [],
   "source": []
  },
  {
   "cell_type": "markdown",
   "id": "20a4eded-4c2c-484d-9d3d-e88fb8f2be0d",
   "metadata": {},
   "source": [
    "## Question - 6\n",
    "ans - "
   ]
  },
  {
   "cell_type": "code",
   "execution_count": 9,
   "id": "ea0e26d1-519c-4733-bbff-f589ae85a4ae",
   "metadata": {},
   "outputs": [
    {
     "data": {
      "text/html": [
       "<div>\n",
       "<style scoped>\n",
       "    .dataframe tbody tr th:only-of-type {\n",
       "        vertical-align: middle;\n",
       "    }\n",
       "\n",
       "    .dataframe tbody tr th {\n",
       "        vertical-align: top;\n",
       "    }\n",
       "\n",
       "    .dataframe thead th {\n",
       "        text-align: right;\n",
       "    }\n",
       "</style>\n",
       "<table border=\"1\" class=\"dataframe\">\n",
       "  <thead>\n",
       "    <tr style=\"text-align: right;\">\n",
       "      <th></th>\n",
       "      <th>Airline</th>\n",
       "      <th>Date_of_Journey</th>\n",
       "      <th>Source</th>\n",
       "      <th>Destination</th>\n",
       "      <th>Route</th>\n",
       "      <th>Dep_Time</th>\n",
       "      <th>Arrival_Time</th>\n",
       "      <th>Duration</th>\n",
       "      <th>Total_Stops</th>\n",
       "      <th>Additional_Info</th>\n",
       "      <th>Price</th>\n",
       "    </tr>\n",
       "  </thead>\n",
       "  <tbody>\n",
       "    <tr>\n",
       "      <th>0</th>\n",
       "      <td>IndiGo</td>\n",
       "      <td>24/03/2019</td>\n",
       "      <td>Banglore</td>\n",
       "      <td>New Delhi</td>\n",
       "      <td>BLR → DEL</td>\n",
       "      <td>22:20</td>\n",
       "      <td>01:10 22 Mar</td>\n",
       "      <td>2h 50m</td>\n",
       "      <td>non-stop</td>\n",
       "      <td>No info</td>\n",
       "      <td>3897</td>\n",
       "    </tr>\n",
       "    <tr>\n",
       "      <th>1</th>\n",
       "      <td>Air India</td>\n",
       "      <td>1/05/2019</td>\n",
       "      <td>Kolkata</td>\n",
       "      <td>Banglore</td>\n",
       "      <td>CCU → IXR → BBI → BLR</td>\n",
       "      <td>05:50</td>\n",
       "      <td>13:15</td>\n",
       "      <td>7h 25m</td>\n",
       "      <td>2 stops</td>\n",
       "      <td>No info</td>\n",
       "      <td>7662</td>\n",
       "    </tr>\n",
       "  </tbody>\n",
       "</table>\n",
       "</div>"
      ],
      "text/plain": [
       "     Airline Date_of_Journey    Source Destination                  Route  \\\n",
       "0     IndiGo      24/03/2019  Banglore   New Delhi              BLR → DEL   \n",
       "1  Air India       1/05/2019   Kolkata    Banglore  CCU → IXR → BBI → BLR   \n",
       "\n",
       "  Dep_Time  Arrival_Time Duration Total_Stops Additional_Info  Price  \n",
       "0    22:20  01:10 22 Mar   2h 50m    non-stop         No info   3897  \n",
       "1    05:50         13:15   7h 25m     2 stops         No info   7662  "
      ]
     },
     "execution_count": 9,
     "metadata": {},
     "output_type": "execute_result"
    }
   ],
   "source": [
    "df.head(2)"
   ]
  },
  {
   "cell_type": "code",
   "execution_count": 10,
   "id": "5c6f829d-e915-470b-95a6-00b7940c96c6",
   "metadata": {},
   "outputs": [
    {
     "data": {
      "text/plain": [
       "0"
      ]
     },
     "execution_count": 10,
     "metadata": {},
     "output_type": "execute_result"
    }
   ],
   "source": [
    "df['Date_of_Journey'].isnull().sum()"
   ]
  },
  {
   "cell_type": "code",
   "execution_count": 11,
   "id": "1d2a246b-8637-46d9-8416-cc0badacc16f",
   "metadata": {},
   "outputs": [],
   "source": [
    "df['month_of_journey'] = df['Date_of_Journey'].str.split('/').str[1]"
   ]
  },
  {
   "cell_type": "code",
   "execution_count": 12,
   "id": "61cd7e5f-94db-4e4f-8779-54fa535f90b3",
   "metadata": {},
   "outputs": [
    {
     "data": {
      "text/html": [
       "<div>\n",
       "<style scoped>\n",
       "    .dataframe tbody tr th:only-of-type {\n",
       "        vertical-align: middle;\n",
       "    }\n",
       "\n",
       "    .dataframe tbody tr th {\n",
       "        vertical-align: top;\n",
       "    }\n",
       "\n",
       "    .dataframe thead th {\n",
       "        text-align: right;\n",
       "    }\n",
       "</style>\n",
       "<table border=\"1\" class=\"dataframe\">\n",
       "  <thead>\n",
       "    <tr style=\"text-align: right;\">\n",
       "      <th></th>\n",
       "      <th>Airline</th>\n",
       "      <th>Date_of_Journey</th>\n",
       "      <th>Source</th>\n",
       "      <th>Destination</th>\n",
       "      <th>Route</th>\n",
       "      <th>Dep_Time</th>\n",
       "      <th>Arrival_Time</th>\n",
       "      <th>Duration</th>\n",
       "      <th>Total_Stops</th>\n",
       "      <th>Additional_Info</th>\n",
       "      <th>Price</th>\n",
       "      <th>month_of_journey</th>\n",
       "    </tr>\n",
       "  </thead>\n",
       "  <tbody>\n",
       "    <tr>\n",
       "      <th>0</th>\n",
       "      <td>IndiGo</td>\n",
       "      <td>24/03/2019</td>\n",
       "      <td>Banglore</td>\n",
       "      <td>New Delhi</td>\n",
       "      <td>BLR → DEL</td>\n",
       "      <td>22:20</td>\n",
       "      <td>01:10 22 Mar</td>\n",
       "      <td>2h 50m</td>\n",
       "      <td>non-stop</td>\n",
       "      <td>No info</td>\n",
       "      <td>3897</td>\n",
       "      <td>03</td>\n",
       "    </tr>\n",
       "    <tr>\n",
       "      <th>1</th>\n",
       "      <td>Air India</td>\n",
       "      <td>1/05/2019</td>\n",
       "      <td>Kolkata</td>\n",
       "      <td>Banglore</td>\n",
       "      <td>CCU → IXR → BBI → BLR</td>\n",
       "      <td>05:50</td>\n",
       "      <td>13:15</td>\n",
       "      <td>7h 25m</td>\n",
       "      <td>2 stops</td>\n",
       "      <td>No info</td>\n",
       "      <td>7662</td>\n",
       "      <td>05</td>\n",
       "    </tr>\n",
       "    <tr>\n",
       "      <th>2</th>\n",
       "      <td>Jet Airways</td>\n",
       "      <td>9/06/2019</td>\n",
       "      <td>Delhi</td>\n",
       "      <td>Cochin</td>\n",
       "      <td>DEL → LKO → BOM → COK</td>\n",
       "      <td>09:25</td>\n",
       "      <td>04:25 10 Jun</td>\n",
       "      <td>19h</td>\n",
       "      <td>2 stops</td>\n",
       "      <td>No info</td>\n",
       "      <td>13882</td>\n",
       "      <td>06</td>\n",
       "    </tr>\n",
       "  </tbody>\n",
       "</table>\n",
       "</div>"
      ],
      "text/plain": [
       "       Airline Date_of_Journey    Source Destination                  Route  \\\n",
       "0       IndiGo      24/03/2019  Banglore   New Delhi              BLR → DEL   \n",
       "1    Air India       1/05/2019   Kolkata    Banglore  CCU → IXR → BBI → BLR   \n",
       "2  Jet Airways       9/06/2019     Delhi      Cochin  DEL → LKO → BOM → COK   \n",
       "\n",
       "  Dep_Time  Arrival_Time Duration Total_Stops Additional_Info  Price  \\\n",
       "0    22:20  01:10 22 Mar   2h 50m    non-stop         No info   3897   \n",
       "1    05:50         13:15   7h 25m     2 stops         No info   7662   \n",
       "2    09:25  04:25 10 Jun      19h     2 stops         No info  13882   \n",
       "\n",
       "  month_of_journey  \n",
       "0               03  \n",
       "1               05  \n",
       "2               06  "
      ]
     },
     "execution_count": 12,
     "metadata": {},
     "output_type": "execute_result"
    }
   ],
   "source": [
    "df.head(3)"
   ]
  },
  {
   "cell_type": "code",
   "execution_count": null,
   "id": "d937fac1-f072-448f-8c3b-c37b67805b5e",
   "metadata": {},
   "outputs": [],
   "source": []
  },
  {
   "cell_type": "code",
   "execution_count": 13,
   "id": "4b686dc7-e85d-44eb-a166-8f83614dca24",
   "metadata": {},
   "outputs": [
    {
     "data": {
      "text/plain": [
       "<AxesSubplot: xlabel='month_of_journey', ylabel='Count'>"
      ]
     },
     "execution_count": 13,
     "metadata": {},
     "output_type": "execute_result"
    },
    {
     "data": {
      "image/png": "[encoded data removed]",
      "text/plain": [
       "<Figure size 640x480 with 1 Axes>"
      ]
     },
     "metadata": {},
     "output_type": "display_data"
    }
   ],
   "source": [
    "sns.histplot(data = df['month_of_journey'])"
   ]
  },
  {
   "cell_type": "code",
   "execution_count": null,
   "id": "6bf7af45-8ba6-4890-affe-01ed5d695347",
   "metadata": {},
   "outputs": [],
   "source": []
  },
  {
   "cell_type": "markdown",
   "id": "d12a8554-539a-483b-9aaf-03a41c53f1b5",
   "metadata": {},
   "source": [
    "* .  here i plot a scatter plot to see the highest price in different months"
   ]
  },
  {
   "cell_type": "code",
   "execution_count": 14,
   "id": "d3592745-dc4a-4622-845c-3625bd4ba1c3",
   "metadata": {},
   "outputs": [
    {
     "data": {
      "text/plain": [
       "<matplotlib.collections.PathCollection at 0x7f3f4fbc9810>"
      ]
     },
     "execution_count": 14,
     "metadata": {},
     "output_type": "execute_result"
    },
    {
     "data": {
      "image/png": "[encoded data removed]",
      "text/plain": [
       "<Figure size 640x480 with 1 Axes>"
      ]
     },
     "metadata": {},
     "output_type": "display_data"
    }
   ],
   "source": [
    "plt.scatter(x=df['month_of_journey'] ,y= df['Price'])"
   ]
  },
  {
   "cell_type": "markdown",
   "id": "8f10054e-dc75-4b72-9dc7-b5b8eb8d14e1",
   "metadata": {},
   "source": [
    "## Observation :-\n",
    "\n",
    "* .  accordint to price distribution of flights in deifferent month  , in March month flights has highest ticket price,\n",
    "     so that is the peak travel season "
   ]
  },
  {
   "cell_type": "code",
   "execution_count": null,
   "id": "cac90801-7a50-406a-b8a8-07413efcebf3",
   "metadata": {},
   "outputs": [],
   "source": []
  },
  {
   "cell_type": "code",
   "execution_count": null,
   "id": "f318dc90-e661-413b-a8fd-82a80d33eaed",
   "metadata": {},
   "outputs": [],
   "source": []
  },
  {
   "cell_type": "code",
   "execution_count": null,
   "id": "3d15048f-66d2-47f8-86c1-e2460bdf78a8",
   "metadata": {},
   "outputs": [],
   "source": []
  },
  {
   "cell_type": "markdown",
   "id": "781f4963-5d21-4908-8c7b-1748e6a043c8",
   "metadata": {},
   "source": [
    "## Question - 6\n",
    "ans - "
   ]
  },
  {
   "cell_type": "markdown",
   "id": "566689e1-5e84-4bf8-a8b7-e6f616537496",
   "metadata": {},
   "source": [
    "Analyzing the Flight Price dataset to identify trends in flight prices involves examining several features. Here are some key features to analyze for identifying trends:\n",
    "\n",
    "1. Date_of_Journey (or month_of_journey):\n",
    "Analyzing flight prices over different months or specific dates to identify seasonal or monthly trends.\n",
    "\n",
    "\n",
    "2. Total_Stops or Route:\n",
    "Examining how flight prices vary based on the number of stops or specific routes, understanding if non-stop flights have different pricing trends compared to multi-stop flights.\n",
    "\n",
    "3. Source and Destination:\n",
    "Investigating if flight prices differ significantly based on the departure and arrival locations. Certain destinations or origins might experience varying pricing trends.\n",
    "\n",
    "4. Duration:\n",
    "Exploring the relationship between the duration of flights and their prices. Longer flights might have different price trends compared to shorter ones."
   ]
  },
  {
   "cell_type": "code",
   "execution_count": null,
   "id": "29445255-6c80-4670-a1f1-edd093f2b880",
   "metadata": {},
   "outputs": [],
   "source": []
  },
  {
   "cell_type": "code",
   "execution_count": 15,
   "id": "16cfd906-5953-455c-b8e7-5968d3761fde",
   "metadata": {},
   "outputs": [
    {
     "data": {
      "text/html": [
       "<div>\n",
       "<style scoped>\n",
       "    .dataframe tbody tr th:only-of-type {\n",
       "        vertical-align: middle;\n",
       "    }\n",
       "\n",
       "    .dataframe tbody tr th {\n",
       "        vertical-align: top;\n",
       "    }\n",
       "\n",
       "    .dataframe thead th {\n",
       "        text-align: right;\n",
       "    }\n",
       "</style>\n",
       "<table border=\"1\" class=\"dataframe\">\n",
       "  <thead>\n",
       "    <tr style=\"text-align: right;\">\n",
       "      <th></th>\n",
       "      <th>Airline</th>\n",
       "      <th>Date_of_Journey</th>\n",
       "      <th>Source</th>\n",
       "      <th>Destination</th>\n",
       "      <th>Route</th>\n",
       "      <th>Dep_Time</th>\n",
       "      <th>Arrival_Time</th>\n",
       "      <th>Duration</th>\n",
       "      <th>Total_Stops</th>\n",
       "      <th>Additional_Info</th>\n",
       "      <th>Price</th>\n",
       "      <th>month_of_journey</th>\n",
       "    </tr>\n",
       "  </thead>\n",
       "  <tbody>\n",
       "    <tr>\n",
       "      <th>0</th>\n",
       "      <td>IndiGo</td>\n",
       "      <td>24/03/2019</td>\n",
       "      <td>Banglore</td>\n",
       "      <td>New Delhi</td>\n",
       "      <td>BLR → DEL</td>\n",
       "      <td>22:20</td>\n",
       "      <td>01:10 22 Mar</td>\n",
       "      <td>2h 50m</td>\n",
       "      <td>non-stop</td>\n",
       "      <td>No info</td>\n",
       "      <td>3897</td>\n",
       "      <td>03</td>\n",
       "    </tr>\n",
       "    <tr>\n",
       "      <th>1</th>\n",
       "      <td>Air India</td>\n",
       "      <td>1/05/2019</td>\n",
       "      <td>Kolkata</td>\n",
       "      <td>Banglore</td>\n",
       "      <td>CCU → IXR → BBI → BLR</td>\n",
       "      <td>05:50</td>\n",
       "      <td>13:15</td>\n",
       "      <td>7h 25m</td>\n",
       "      <td>2 stops</td>\n",
       "      <td>No info</td>\n",
       "      <td>7662</td>\n",
       "      <td>05</td>\n",
       "    </tr>\n",
       "    <tr>\n",
       "      <th>2</th>\n",
       "      <td>Jet Airways</td>\n",
       "      <td>9/06/2019</td>\n",
       "      <td>Delhi</td>\n",
       "      <td>Cochin</td>\n",
       "      <td>DEL → LKO → BOM → COK</td>\n",
       "      <td>09:25</td>\n",
       "      <td>04:25 10 Jun</td>\n",
       "      <td>19h</td>\n",
       "      <td>2 stops</td>\n",
       "      <td>No info</td>\n",
       "      <td>13882</td>\n",
       "      <td>06</td>\n",
       "    </tr>\n",
       "  </tbody>\n",
       "</table>\n",
       "</div>"
      ],
      "text/plain": [
       "       Airline Date_of_Journey    Source Destination                  Route  \\\n",
       "0       IndiGo      24/03/2019  Banglore   New Delhi              BLR → DEL   \n",
       "1    Air India       1/05/2019   Kolkata    Banglore  CCU → IXR → BBI → BLR   \n",
       "2  Jet Airways       9/06/2019     Delhi      Cochin  DEL → LKO → BOM → COK   \n",
       "\n",
       "  Dep_Time  Arrival_Time Duration Total_Stops Additional_Info  Price  \\\n",
       "0    22:20  01:10 22 Mar   2h 50m    non-stop         No info   3897   \n",
       "1    05:50         13:15   7h 25m     2 stops         No info   7662   \n",
       "2    09:25  04:25 10 Jun      19h     2 stops         No info  13882   \n",
       "\n",
       "  month_of_journey  \n",
       "0               03  \n",
       "1               05  \n",
       "2               06  "
      ]
     },
     "execution_count": 15,
     "metadata": {},
     "output_type": "execute_result"
    }
   ],
   "source": [
    "df.head(3)"
   ]
  },
  {
   "cell_type": "code",
   "execution_count": 16,
   "id": "d99ef51f-b190-4f1e-81f3-a97242c0dacb",
   "metadata": {},
   "outputs": [
    {
     "data": {
      "text/plain": [
       "<AxesSubplot: xlabel='month_of_journey', ylabel='Price'>"
      ]
     },
     "execution_count": 16,
     "metadata": {},
     "output_type": "execute_result"
    },
    {
     "data": {
      "image/png": "[encoded data removed]",
      "text/plain": [
       "<Figure size 640x480 with 1 Axes>"
      ]
     },
     "metadata": {},
     "output_type": "display_data"
    }
   ],
   "source": [
    "sns.scatterplot(x = df['month_of_journey'] , y = df['Price'])"
   ]
  },
  {
   "cell_type": "markdown",
   "id": "8571d14f-a3a6-43d8-a407-ce52ea8abce1",
   "metadata": {},
   "source": [
    "## price varies according to months that is March month records highest prices of flights. Then May month , June and April "
   ]
  },
  {
   "cell_type": "code",
   "execution_count": null,
   "id": "7d4c6e32-2322-494a-82e4-50903457c7aa",
   "metadata": {},
   "outputs": [],
   "source": []
  },
  {
   "cell_type": "code",
   "execution_count": 17,
   "id": "6cfe7aca-56ba-42dc-88e1-fa10c3dca06f",
   "metadata": {},
   "outputs": [
    {
     "data": {
      "text/html": [
       "<div>\n",
       "<style scoped>\n",
       "    .dataframe tbody tr th:only-of-type {\n",
       "        vertical-align: middle;\n",
       "    }\n",
       "\n",
       "    .dataframe tbody tr th {\n",
       "        vertical-align: top;\n",
       "    }\n",
       "\n",
       "    .dataframe thead th {\n",
       "        text-align: right;\n",
       "    }\n",
       "</style>\n",
       "<table border=\"1\" class=\"dataframe\">\n",
       "  <thead>\n",
       "    <tr style=\"text-align: right;\">\n",
       "      <th></th>\n",
       "      <th>Airline</th>\n",
       "      <th>Date_of_Journey</th>\n",
       "      <th>Source</th>\n",
       "      <th>Destination</th>\n",
       "      <th>Route</th>\n",
       "      <th>Dep_Time</th>\n",
       "      <th>Arrival_Time</th>\n",
       "      <th>Duration</th>\n",
       "      <th>Total_Stops</th>\n",
       "      <th>Additional_Info</th>\n",
       "      <th>Price</th>\n",
       "      <th>month_of_journey</th>\n",
       "    </tr>\n",
       "  </thead>\n",
       "  <tbody>\n",
       "    <tr>\n",
       "      <th>0</th>\n",
       "      <td>IndiGo</td>\n",
       "      <td>24/03/2019</td>\n",
       "      <td>Banglore</td>\n",
       "      <td>New Delhi</td>\n",
       "      <td>BLR → DEL</td>\n",
       "      <td>22:20</td>\n",
       "      <td>01:10 22 Mar</td>\n",
       "      <td>2h 50m</td>\n",
       "      <td>non-stop</td>\n",
       "      <td>No info</td>\n",
       "      <td>3897</td>\n",
       "      <td>03</td>\n",
       "    </tr>\n",
       "    <tr>\n",
       "      <th>1</th>\n",
       "      <td>Air India</td>\n",
       "      <td>1/05/2019</td>\n",
       "      <td>Kolkata</td>\n",
       "      <td>Banglore</td>\n",
       "      <td>CCU → IXR → BBI → BLR</td>\n",
       "      <td>05:50</td>\n",
       "      <td>13:15</td>\n",
       "      <td>7h 25m</td>\n",
       "      <td>2 stops</td>\n",
       "      <td>No info</td>\n",
       "      <td>7662</td>\n",
       "      <td>05</td>\n",
       "    </tr>\n",
       "    <tr>\n",
       "      <th>2</th>\n",
       "      <td>Jet Airways</td>\n",
       "      <td>9/06/2019</td>\n",
       "      <td>Delhi</td>\n",
       "      <td>Cochin</td>\n",
       "      <td>DEL → LKO → BOM → COK</td>\n",
       "      <td>09:25</td>\n",
       "      <td>04:25 10 Jun</td>\n",
       "      <td>19h</td>\n",
       "      <td>2 stops</td>\n",
       "      <td>No info</td>\n",
       "      <td>13882</td>\n",
       "      <td>06</td>\n",
       "    </tr>\n",
       "  </tbody>\n",
       "</table>\n",
       "</div>"
      ],
      "text/plain": [
       "       Airline Date_of_Journey    Source Destination                  Route  \\\n",
       "0       IndiGo      24/03/2019  Banglore   New Delhi              BLR → DEL   \n",
       "1    Air India       1/05/2019   Kolkata    Banglore  CCU → IXR → BBI → BLR   \n",
       "2  Jet Airways       9/06/2019     Delhi      Cochin  DEL → LKO → BOM → COK   \n",
       "\n",
       "  Dep_Time  Arrival_Time Duration Total_Stops Additional_Info  Price  \\\n",
       "0    22:20  01:10 22 Mar   2h 50m    non-stop         No info   3897   \n",
       "1    05:50         13:15   7h 25m     2 stops         No info   7662   \n",
       "2    09:25  04:25 10 Jun      19h     2 stops         No info  13882   \n",
       "\n",
       "  month_of_journey  \n",
       "0               03  \n",
       "1               05  \n",
       "2               06  "
      ]
     },
     "execution_count": 17,
     "metadata": {},
     "output_type": "execute_result"
    }
   ],
   "source": [
    "df.head(3)"
   ]
  },
  {
   "cell_type": "code",
   "execution_count": 18,
   "id": "158c303b-91c1-497d-8a39-f0dee5ebe06a",
   "metadata": {},
   "outputs": [
    {
     "data": {
      "text/plain": [
       "array(['non-stop', '2 stops', '1 stop', '3 stops', nan, '4 stops'],\n",
       "      dtype=object)"
      ]
     },
     "execution_count": 18,
     "metadata": {},
     "output_type": "execute_result"
    }
   ],
   "source": [
    "df['Total_Stops'].unique()"
   ]
  },
  {
   "cell_type": "code",
   "execution_count": 19,
   "id": "c805d28a-86c8-4bb3-9119-dcf41da1e170",
   "metadata": {},
   "outputs": [],
   "source": [
    "df['Total_Stops'] = df['Total_Stops'].map({'non-stops' : 0 , '2 stops':2 , '1 stop':1 , '3 stops':3, '4 stops':4})"
   ]
  },
  {
   "cell_type": "code",
   "execution_count": 20,
   "id": "7dea1ae5-0cc2-4f0c-afe4-2ae5845e20f3",
   "metadata": {},
   "outputs": [
    {
     "data": {
      "text/plain": [
       "<AxesSubplot: xlabel='Total_Stops', ylabel='Price'>"
      ]
     },
     "execution_count": 20,
     "metadata": {},
     "output_type": "execute_result"
    },
    {
     "data": {
      "image/png": "[encoded data removed]",
      "text/plain": [
       "<Figure size 640x480 with 1 Axes>"
      ]
     },
     "metadata": {},
     "output_type": "display_data"
    }
   ],
   "source": [
    "sns.barplot(x = df['Total_Stops'] , y = df['Price'])"
   ]
  },
  {
   "cell_type": "markdown",
   "id": "59b0649b-8f12-41e5-8d1e-e0ca78ee3137",
   "metadata": {},
   "source": [
    "## From above visual diagram it is concluded that \n",
    "* . more number of stops have more fligh price\n",
    "* . less number of stops have less flight price"
   ]
  },
  {
   "cell_type": "code",
   "execution_count": null,
   "id": "0d3f4871-00fa-4a3f-a284-11be2b6afdb9",
   "metadata": {},
   "outputs": [],
   "source": []
  },
  {
   "cell_type": "code",
   "execution_count": null,
   "id": "bd8ad923-924f-4374-a134-cc29445f11a0",
   "metadata": {},
   "outputs": [],
   "source": []
  },
  {
   "cell_type": "code",
   "execution_count": null,
   "id": "81fcaaea-2ff0-491b-b326-f6d18cb4a4e9",
   "metadata": {},
   "outputs": [],
   "source": []
  },
  {
   "cell_type": "markdown",
   "id": "d7be5e6f-91e7-4e33-88d5-7167f9b6bb8f",
   "metadata": {},
   "source": [
    "## Question - 8\n",
    "ans - "
   ]
  },
  {
   "cell_type": "markdown",
   "id": "d9ef9ddf-5c61-4a98-b1c6-78964d3b63bc",
   "metadata": {},
   "source": [
    "for identify the factors affecting the fligh price i would analyze the feature like Airline , total Stops , Duration , Route"
   ]
  },
  {
   "cell_type": "code",
   "execution_count": 21,
   "id": "049e9492-8433-4204-8dc7-5c4ede43f206",
   "metadata": {},
   "outputs": [
    {
     "data": {
      "text/plain": [
       "{'whiskers': [<matplotlib.lines.Line2D at 0x7f3f4e0a0d30>,\n",
       "  <matplotlib.lines.Line2D at 0x7f3f4e0a0fd0>,\n",
       "  <matplotlib.lines.Line2D at 0x7f3f4e0a1a80>,\n",
       "  <matplotlib.lines.Line2D at 0x7f3f4e0a1d20>,\n",
       "  <matplotlib.lines.Line2D at 0x7f3f4e0a2ce0>,\n",
       "  <matplotlib.lines.Line2D at 0x7f3f4e0a2f80>,\n",
       "  <matplotlib.lines.Line2D at 0x7f3f4e0a3f40>,\n",
       "  <matplotlib.lines.Line2D at 0x7f3f4e0cc220>,\n",
       "  <matplotlib.lines.Line2D at 0x7f3f4e0cd1e0>,\n",
       "  <matplotlib.lines.Line2D at 0x7f3f4e0cd480>,\n",
       "  <matplotlib.lines.Line2D at 0x7f3f4e0ce440>,\n",
       "  <matplotlib.lines.Line2D at 0x7f3f4e0ce6e0>,\n",
       "  <matplotlib.lines.Line2D at 0x7f3f4e0cf6a0>,\n",
       "  <matplotlib.lines.Line2D at 0x7f3f4e0cf940>,\n",
       "  <matplotlib.lines.Line2D at 0x7f3f4e0f8940>,\n",
       "  <matplotlib.lines.Line2D at 0x7f3f4e0f8be0>,\n",
       "  <matplotlib.lines.Line2D at 0x7f3f4e0f9ba0>,\n",
       "  <matplotlib.lines.Line2D at 0x7f3f4e0f9e40>,\n",
       "  <matplotlib.lines.Line2D at 0x7f3f4e0fae30>,\n",
       "  <matplotlib.lines.Line2D at 0x7f3f4e0fb0d0>,\n",
       "  <matplotlib.lines.Line2D at 0x7f3f4e1240d0>,\n",
       "  <matplotlib.lines.Line2D at 0x7f3f4e124370>,\n",
       "  <matplotlib.lines.Line2D at 0x7f3f4e125330>,\n",
       "  <matplotlib.lines.Line2D at 0x7f3f4e1255d0>],\n",
       " 'caps': [<matplotlib.lines.Line2D at 0x7f3f4e0a1270>,\n",
       "  <matplotlib.lines.Line2D at 0x7f3f4e0a1510>,\n",
       "  <matplotlib.lines.Line2D at 0x7f3f4e0a1fc0>,\n",
       "  <matplotlib.lines.Line2D at 0x7f3f4e0a2260>,\n",
       "  <matplotlib.lines.Line2D at 0x7f3f4e0a3220>,\n",
       "  <matplotlib.lines.Line2D at 0x7f3f4e0a34c0>,\n",
       "  <matplotlib.lines.Line2D at 0x7f3f4e0cc4c0>,\n",
       "  <matplotlib.lines.Line2D at 0x7f3f4e0cc760>,\n",
       "  <matplotlib.lines.Line2D at 0x7f3f4e0cd720>,\n",
       "  <matplotlib.lines.Line2D at 0x7f3f4e0cd9c0>,\n",
       "  <matplotlib.lines.Line2D at 0x7f3f4e0ce980>,\n",
       "  <matplotlib.lines.Line2D at 0x7f3f4e0cec20>,\n",
       "  <matplotlib.lines.Line2D at 0x7f3f4e0cfbe0>,\n",
       "  <matplotlib.lines.Line2D at 0x7f3f4e0cfe80>,\n",
       "  <matplotlib.lines.Line2D at 0x7f3f4e0f8e80>,\n",
       "  <matplotlib.lines.Line2D at 0x7f3f4e0f9120>,\n",
       "  <matplotlib.lines.Line2D at 0x7f3f4e0fa0e0>,\n",
       "  <matplotlib.lines.Line2D at 0x7f3f4e0fa380>,\n",
       "  <matplotlib.lines.Line2D at 0x7f3f4e0fb370>,\n",
       "  <matplotlib.lines.Line2D at 0x7f3f4e0fb610>,\n",
       "  <matplotlib.lines.Line2D at 0x7f3f4e124610>,\n",
       "  <matplotlib.lines.Line2D at 0x7f3f4e1248b0>,\n",
       "  <matplotlib.lines.Line2D at 0x7f3f4e125870>,\n",
       "  <matplotlib.lines.Line2D at 0x7f3f4e125b10>],\n",
       " 'boxes': [<matplotlib.lines.Line2D at 0x7f3f4e0a0a90>,\n",
       "  <matplotlib.lines.Line2D at 0x7f3f4e0a17e0>,\n",
       "  <matplotlib.lines.Line2D at 0x7f3f4e0a2a40>,\n",
       "  <matplotlib.lines.Line2D at 0x7f3f4e0a3ca0>,\n",
       "  <matplotlib.lines.Line2D at 0x7f3f4e0ccf40>,\n",
       "  <matplotlib.lines.Line2D at 0x7f3f4e0ce1a0>,\n",
       "  <matplotlib.lines.Line2D at 0x7f3f4e0cf400>,\n",
       "  <matplotlib.lines.Line2D at 0x7f3f4e0f86a0>,\n",
       "  <matplotlib.lines.Line2D at 0x7f3f4e0f9900>,\n",
       "  <matplotlib.lines.Line2D at 0x7f3f4e0fab90>,\n",
       "  <matplotlib.lines.Line2D at 0x7f3f4e0fbdf0>,\n",
       "  <matplotlib.lines.Line2D at 0x7f3f4e125090>],\n",
       " 'medians': [<matplotlib.lines.Line2D at 0x7f3f4e259b40>,\n",
       "  <matplotlib.lines.Line2D at 0x7f3f4e0a2500>,\n",
       "  <matplotlib.lines.Line2D at 0x7f3f4e0a3760>,\n",
       "  <matplotlib.lines.Line2D at 0x7f3f4e0cca00>,\n",
       "  <matplotlib.lines.Line2D at 0x7f3f4e0cdc60>,\n",
       "  <matplotlib.lines.Line2D at 0x7f3f4e0ceec0>,\n",
       "  <matplotlib.lines.Line2D at 0x7f3f4e0f8160>,\n",
       "  <matplotlib.lines.Line2D at 0x7f3f4e0f93c0>,\n",
       "  <matplotlib.lines.Line2D at 0x7f3f4e0fa620>,\n",
       "  <matplotlib.lines.Line2D at 0x7f3f4e0fb8b0>,\n",
       "  <matplotlib.lines.Line2D at 0x7f3f4e124b50>,\n",
       "  <matplotlib.lines.Line2D at 0x7f3f4e125db0>],\n",
       " 'fliers': [<matplotlib.lines.Line2D at 0x7f3f4e0a13f0>,\n",
       "  <matplotlib.lines.Line2D at 0x7f3f4e0a27a0>,\n",
       "  <matplotlib.lines.Line2D at 0x7f3f4e0a3a00>,\n",
       "  <matplotlib.lines.Line2D at 0x7f3f4e0ccca0>,\n",
       "  <matplotlib.lines.Line2D at 0x7f3f4e0cdf00>,\n",
       "  <matplotlib.lines.Line2D at 0x7f3f4e0cf160>,\n",
       "  <matplotlib.lines.Line2D at 0x7f3f4e0f8400>,\n",
       "  <matplotlib.lines.Line2D at 0x7f3f4e0f9660>,\n",
       "  <matplotlib.lines.Line2D at 0x7f3f4e0fa8c0>,\n",
       "  <matplotlib.lines.Line2D at 0x7f3f4e0fbb50>,\n",
       "  <matplotlib.lines.Line2D at 0x7f3f4e124df0>,\n",
       "  <matplotlib.lines.Line2D at 0x7f3f4e126050>],\n",
       " 'means': []}"
      ]
     },
     "execution_count": 21,
     "metadata": {},
     "output_type": "execute_result"
    },
    {
     "data": {
      "image/png": "[encoded data removed]",
      "text/plain": [
       "<Figure size 1300x800 with 1 Axes>"
      ]
     },
     "metadata": {},
     "output_type": "display_data"
    }
   ],
   "source": [
    "plt.figure(figsize = (13,8))\n",
    "plt.xlabel('Airline')\n",
    "plt.xticks(rotation = 90)\n",
    "\n",
    "\n",
    "\n",
    "plt.boxplot([df[df['Airline'] == airline]['Price'] for airline in df['Airline'].unique()] , labels = df['Airline'].unique())"
   ]
  },
  {
   "cell_type": "markdown",
   "id": "8468974d-9e2f-41cb-8115-0fb70b7ccf18",
   "metadata": {},
   "source": [
    "* . From the above boxplot diagram it can be seen that flight price varies with the airline , Jet Airqays Business airline has the highest fligh price\n",
    "* . Spicejet has the lowest fligh price in the dataset"
   ]
  },
  {
   "cell_type": "code",
   "execution_count": null,
   "id": "cd2fed1f-9784-4d97-a579-7f5fc7f23a15",
   "metadata": {},
   "outputs": [],
   "source": []
  },
  {
   "cell_type": "code",
   "execution_count": 22,
   "id": "d4412c59-374d-461b-8a60-6eb34dd9512c",
   "metadata": {},
   "outputs": [
    {
     "data": {
      "text/plain": [
       "<AxesSubplot: xlabel='Total_Stops', ylabel='Price'>"
      ]
     },
     "execution_count": 22,
     "metadata": {},
     "output_type": "execute_result"
    },
    {
     "data": {
      "image/png": "[encoded data removed]",
      "text/plain": [
       "<Figure size 640x480 with 1 Axes>"
      ]
     },
     "metadata": {},
     "output_type": "display_data"
    }
   ],
   "source": [
    "sns.barplot(x = df['Total_Stops'] , y = df['Price'])"
   ]
  },
  {
   "cell_type": "markdown",
   "id": "2c779d27-9468-4eec-82dd-c95635ba3412",
   "metadata": {},
   "source": [
    "* .  from the above visual diagram it can be seen that flight price increases with the number of stops"
   ]
  },
  {
   "cell_type": "code",
   "execution_count": null,
   "id": "dcd1cef0-b40f-4359-a95e-715201b2bcdd",
   "metadata": {},
   "outputs": [],
   "source": []
  },
  {
   "cell_type": "code",
   "execution_count": 23,
   "id": "f297d16e-0edb-4a44-bbe0-3e8787a676ca",
   "metadata": {},
   "outputs": [
    {
     "data": {
      "text/plain": [
       "<AxesSubplot: xlabel='month_of_journey', ylabel='Price'>"
      ]
     },
     "execution_count": 23,
     "metadata": {},
     "output_type": "execute_result"
    },
    {
     "data": {
      "image/png": "[encoded data removed]",
      "text/plain": [
       "<Figure size 640x480 with 1 Axes>"
      ]
     },
     "metadata": {},
     "output_type": "display_data"
    }
   ],
   "source": [
    "sns.barplot(data = df , x = df['month_of_journey'] , y = df['Price'])"
   ]
  },
  {
   "cell_type": "markdown",
   "id": "654a4aa5-49dc-41a1-b0d6-a75e1f8f468b",
   "metadata": {},
   "source": [
    "* .  it can be seen that in month of March , it records the highest flight price\n",
    "* . and in the month of april , it records the lowes flight price"
   ]
  },
  {
   "cell_type": "code",
   "execution_count": null,
   "id": "6fe76743-3aba-40e3-b60a-bf1041cc5730",
   "metadata": {},
   "outputs": [],
   "source": []
  },
  {
   "cell_type": "code",
   "execution_count": null,
   "id": "8e27f8e7-673a-4148-b926-de6d384ad683",
   "metadata": {},
   "outputs": [],
   "source": []
  },
  {
   "cell_type": "code",
   "execution_count": null,
   "id": "83147373-4cfb-4ed4-bc2e-d790989ab5ed",
   "metadata": {},
   "outputs": [],
   "source": []
  },
  {
   "cell_type": "markdown",
   "id": "71bfac5a-061a-4d22-b305-8ee49d5168b1",
   "metadata": {},
   "source": [
    "## Question - 9\n",
    "ans - "
   ]
  },
  {
   "cell_type": "code",
   "execution_count": 24,
   "id": "70cc9236-4385-4e1e-8116-1ea398413a40",
   "metadata": {},
   "outputs": [],
   "source": [
    "import pandas as pd\n",
    "import numpy as np\n",
    "import matplotlib.pyplot as plt\n",
    "from warnings import filterwarnings\n",
    "filterwarnings('ignore')\n",
    "import seaborn as sns"
   ]
  },
  {
   "cell_type": "code",
   "execution_count": 25,
   "id": "2026463d-ebfb-4087-975b-2397159ec190",
   "metadata": {},
   "outputs": [],
   "source": [
    "df = pd.read_csv('https://raw.githubusercontent.com/krishnaik06/playstore-Dataset/main/googleplaystore.csv')"
   ]
  },
  {
   "cell_type": "code",
   "execution_count": 53,
   "id": "276e9d01-1607-45d9-a64b-1a99c3615983",
   "metadata": {},
   "outputs": [
    {
     "data": {
      "text/html": [
       "<div>\n",
       "<style scoped>\n",
       "    .dataframe tbody tr th:only-of-type {\n",
       "        vertical-align: middle;\n",
       "    }\n",
       "\n",
       "    .dataframe tbody tr th {\n",
       "        vertical-align: top;\n",
       "    }\n",
       "\n",
       "    .dataframe thead th {\n",
       "        text-align: right;\n",
       "    }\n",
       "</style>\n",
       "<table border=\"1\" class=\"dataframe\">\n",
       "  <thead>\n",
       "    <tr style=\"text-align: right;\">\n",
       "      <th></th>\n",
       "      <th>App</th>\n",
       "      <th>Category</th>\n",
       "      <th>Rating</th>\n",
       "      <th>Reviews</th>\n",
       "      <th>Size</th>\n",
       "      <th>Installs</th>\n",
       "      <th>Type</th>\n",
       "      <th>Price</th>\n",
       "      <th>Content Rating</th>\n",
       "      <th>Genres</th>\n",
       "      <th>Last Updated</th>\n",
       "      <th>Current Ver</th>\n",
       "      <th>Android Ver</th>\n",
       "    </tr>\n",
       "  </thead>\n",
       "  <tbody>\n",
       "    <tr>\n",
       "      <th>0</th>\n",
       "      <td>Photo Editor &amp; Candy Camera &amp; Grid &amp; ScrapBook</td>\n",
       "      <td>ART_AND_DESIGN</td>\n",
       "      <td>4.1</td>\n",
       "      <td>159</td>\n",
       "      <td>19M</td>\n",
       "      <td>10,000+</td>\n",
       "      <td>Free</td>\n",
       "      <td>0</td>\n",
       "      <td>Everyone</td>\n",
       "      <td>Art &amp; Design</td>\n",
       "      <td>January 7, 2018</td>\n",
       "      <td>1.0.0</td>\n",
       "      <td>4.0.3 and up</td>\n",
       "    </tr>\n",
       "    <tr>\n",
       "      <th>1</th>\n",
       "      <td>Coloring book moana</td>\n",
       "      <td>ART_AND_DESIGN</td>\n",
       "      <td>3.9</td>\n",
       "      <td>967</td>\n",
       "      <td>14M</td>\n",
       "      <td>500,000+</td>\n",
       "      <td>Free</td>\n",
       "      <td>0</td>\n",
       "      <td>Everyone</td>\n",
       "      <td>Art &amp; Design;Pretend Play</td>\n",
       "      <td>January 15, 2018</td>\n",
       "      <td>2.0.0</td>\n",
       "      <td>4.0.3 and up</td>\n",
       "    </tr>\n",
       "    <tr>\n",
       "      <th>2</th>\n",
       "      <td>U Launcher Lite – FREE Live Cool Themes, Hide ...</td>\n",
       "      <td>ART_AND_DESIGN</td>\n",
       "      <td>4.7</td>\n",
       "      <td>87510</td>\n",
       "      <td>8.7M</td>\n",
       "      <td>5,000,000+</td>\n",
       "      <td>Free</td>\n",
       "      <td>0</td>\n",
       "      <td>Everyone</td>\n",
       "      <td>Art &amp; Design</td>\n",
       "      <td>August 1, 2018</td>\n",
       "      <td>1.2.4</td>\n",
       "      <td>4.0.3 and up</td>\n",
       "    </tr>\n",
       "    <tr>\n",
       "      <th>3</th>\n",
       "      <td>Sketch - Draw &amp; Paint</td>\n",
       "      <td>ART_AND_DESIGN</td>\n",
       "      <td>4.5</td>\n",
       "      <td>215644</td>\n",
       "      <td>25M</td>\n",
       "      <td>50,000,000+</td>\n",
       "      <td>Free</td>\n",
       "      <td>0</td>\n",
       "      <td>Teen</td>\n",
       "      <td>Art &amp; Design</td>\n",
       "      <td>June 8, 2018</td>\n",
       "      <td>Varies with device</td>\n",
       "      <td>4.2 and up</td>\n",
       "    </tr>\n",
       "    <tr>\n",
       "      <th>4</th>\n",
       "      <td>Pixel Draw - Number Art Coloring Book</td>\n",
       "      <td>ART_AND_DESIGN</td>\n",
       "      <td>4.3</td>\n",
       "      <td>967</td>\n",
       "      <td>2.8M</td>\n",
       "      <td>100,000+</td>\n",
       "      <td>Free</td>\n",
       "      <td>0</td>\n",
       "      <td>Everyone</td>\n",
       "      <td>Art &amp; Design;Creativity</td>\n",
       "      <td>June 20, 2018</td>\n",
       "      <td>1.1</td>\n",
       "      <td>4.4 and up</td>\n",
       "    </tr>\n",
       "  </tbody>\n",
       "</table>\n",
       "</div>"
      ],
      "text/plain": [
       "                                                 App        Category  Rating  \\\n",
       "0     Photo Editor & Candy Camera & Grid & ScrapBook  ART_AND_DESIGN     4.1   \n",
       "1                                Coloring book moana  ART_AND_DESIGN     3.9   \n",
       "2  U Launcher Lite – FREE Live Cool Themes, Hide ...  ART_AND_DESIGN     4.7   \n",
       "3                              Sketch - Draw & Paint  ART_AND_DESIGN     4.5   \n",
       "4              Pixel Draw - Number Art Coloring Book  ART_AND_DESIGN     4.3   \n",
       "\n",
       "  Reviews  Size     Installs  Type Price Content Rating  \\\n",
       "0     159   19M      10,000+  Free     0       Everyone   \n",
       "1     967   14M     500,000+  Free     0       Everyone   \n",
       "2   87510  8.7M   5,000,000+  Free     0       Everyone   \n",
       "3  215644   25M  50,000,000+  Free     0           Teen   \n",
       "4     967  2.8M     100,000+  Free     0       Everyone   \n",
       "\n",
       "                      Genres      Last Updated         Current Ver  \\\n",
       "0               Art & Design   January 7, 2018               1.0.0   \n",
       "1  Art & Design;Pretend Play  January 15, 2018               2.0.0   \n",
       "2               Art & Design    August 1, 2018               1.2.4   \n",
       "3               Art & Design      June 8, 2018  Varies with device   \n",
       "4    Art & Design;Creativity     June 20, 2018                 1.1   \n",
       "\n",
       "    Android Ver  \n",
       "0  4.0.3 and up  \n",
       "1  4.0.3 and up  \n",
       "2  4.0.3 and up  \n",
       "3    4.2 and up  \n",
       "4    4.4 and up  "
      ]
     },
     "execution_count": 53,
     "metadata": {},
     "output_type": "execute_result"
    }
   ],
   "source": [
    "df.head(5)"
   ]
  },
  {
   "cell_type": "code",
   "execution_count": 27,
   "id": "e87e80d6-280f-499b-a5de-93f87ac2a776",
   "metadata": {},
   "outputs": [
    {
     "data": {
      "text/plain": [
       "(10841, 13)"
      ]
     },
     "execution_count": 27,
     "metadata": {},
     "output_type": "execute_result"
    }
   ],
   "source": [
    "df.shape"
   ]
  },
  {
   "cell_type": "markdown",
   "id": "babdf8cc-0366-422b-a66b-9de8ef87060f",
   "metadata": {},
   "source": [
    "## Observations\n",
    "\n",
    "10841 rows and 13 columns are present in the dataset\n"
   ]
  },
  {
   "cell_type": "code",
   "execution_count": null,
   "id": "4b36ae03-b1ac-4dca-8d1a-a19b16100c14",
   "metadata": {},
   "outputs": [],
   "source": []
  },
  {
   "cell_type": "code",
   "execution_count": null,
   "id": "038db39f-4831-46bb-baf7-688f43335b51",
   "metadata": {},
   "outputs": [],
   "source": []
  },
  {
   "cell_type": "markdown",
   "id": "4b6873b0-8690-46ab-9db4-4956e9601fac",
   "metadata": {},
   "source": [
    "## Question - 10\n",
    "ans - \n"
   ]
  },
  {
   "cell_type": "code",
   "execution_count": 28,
   "id": "e0ab6f27-6f1d-4640-8277-1a43b7c0deae",
   "metadata": {},
   "outputs": [
    {
     "data": {
      "text/plain": [
       "<AxesSubplot: xlabel='Category', ylabel='Rating'>"
      ]
     },
     "execution_count": 28,
     "metadata": {},
     "output_type": "execute_result"
    },
    {
     "data": {
      "image/png": "[encoded data removed]",
      "text/plain": [
       "<Figure size 1500x1000 with 1 Axes>"
      ]
     },
     "metadata": {},
     "output_type": "display_data"
    }
   ],
   "source": [
    "plt.figure(figsize = (15,10))\n",
    "plt.xticks(rotation = 90)\n",
    "\n",
    "sns.boxplot(data = df , x = 'Category' , y = 'Rating')"
   ]
  },
  {
   "cell_type": "markdown",
   "id": "98686e72-451a-4441-818e-55635cb9f16c",
   "metadata": {},
   "source": [
    "## Observation:-\n",
    "\n",
    "1. Lifestyle Category has the less ratings in the dataset\n",
    "2. all Categories has the maximum rating approax to 5.0\n",
    "3. Events Category has the maximum average rating in the dataset.\n"
   ]
  },
  {
   "cell_type": "code",
   "execution_count": null,
   "id": "821d21a3-8216-4646-af2b-7cac634c064c",
   "metadata": {},
   "outputs": [],
   "source": []
  },
  {
   "cell_type": "code",
   "execution_count": null,
   "id": "6301cc10-90be-45a3-b19c-e7e242f6bfb9",
   "metadata": {},
   "outputs": [],
   "source": []
  },
  {
   "cell_type": "code",
   "execution_count": null,
   "id": "73a4e05e-db86-4964-8501-a757c6f30a8c",
   "metadata": {},
   "outputs": [],
   "source": []
  },
  {
   "cell_type": "markdown",
   "id": "b62e226d-bb11-4463-92dd-2bd607c07af1",
   "metadata": {},
   "source": [
    "## Question - 11\n",
    "ans - "
   ]
  },
  {
   "cell_type": "code",
   "execution_count": 29,
   "id": "a0389bc2-806c-4d8c-b49a-f669ede238d5",
   "metadata": {},
   "outputs": [
    {
     "data": {
      "text/plain": [
       "App                  0\n",
       "Category             0\n",
       "Rating            1474\n",
       "Reviews              0\n",
       "Size                 0\n",
       "Installs             0\n",
       "Type                 1\n",
       "Price                0\n",
       "Content Rating       1\n",
       "Genres               0\n",
       "Last Updated         0\n",
       "Current Ver          8\n",
       "Android Ver          3\n",
       "dtype: int64"
      ]
     },
     "execution_count": 29,
     "metadata": {},
     "output_type": "execute_result"
    }
   ],
   "source": [
    "df.isnull().sum()"
   ]
  },
  {
   "cell_type": "markdown",
   "id": "6cf759b6-cdaa-4b07-9c2a-c187a0195757",
   "metadata": {},
   "source": [
    "## Observation:-\n",
    "\n",
    "1. Rating feature  has 1474 , type feature has 1 , content rating has 1 , Current Ver has 8 and Android Ver has 3 missing values in the datset.\n",
    "\n",
    "\n",
    "* . impact on analysis:-\n",
    " Missing values impacts analysis in the form of invalid conclusions , inaccurate statistics , biased analysis and Reduced sample size."
   ]
  },
  {
   "cell_type": "markdown",
   "id": "45ec2bd0-0766-4557-b5c1-ced0b7021f99",
   "metadata": {},
   "source": [
    "1. Biased Analysis: If the missing values are not handled properly, they can introduce bias into the analysis. For instance, if the missing data is not random and occurs systematically, the results of the analysis may be skewed.\n",
    "\n",
    "2. Reduced Sample Size: Missing values decrease the effective sample size, which can lead to a loss of statistical power. This reduction in sample size might impact the accuracy and reliability of the analysis.\n",
    "\n",
    "3. Inaccurate Statistics: Basic statistical measures like mean, median, and standard deviation can be affected by missing values. Their computation might not reflect the true distribution of the data, potentially leading to erroneous conclusions.\n",
    "\n",
    "4. Invalid Conclusions: The absence of data might affect the validity of any conclusions drawn from the analysis. Imputing missing values or excluding them without proper understanding could result in misleading interpretations.\n",
    "\n",
    "5. Altered Relationships: Missing values can affect the relationships or correlations between variables. The absence of data points might distort the understanding of the true associations among variables in the dataset.\n",
    "\n",
    "6. Imputation Challenges: When dealing with missing values, imputation techniques might be used to fill in the gaps. However, the choice of imputation method can influence the results, potentially introducing additional uncertainty or bias into the analysis.\n",
    "\n",
    "7. Algorithm Performance: Some machine learning algorithms might struggle when dealing with missing data. Certain algorithms might require complete datasets or need special handling to accommodate missing values.\n",
    "\n",
    "8. Misinterpretation of Trends: Missing data can misrepresent trends or patterns that might exist in the dataset. Without accounting for missing values appropriately, it's possible to misinterpret trends or overlook important insights.\n",
    "\n",
    "9. Increased Uncertainty: Missing data can introduce uncertainty and variability into the analysis, impacting the confidence in the results and affecting the generalizability of the findings."
   ]
  },
  {
   "cell_type": "code",
   "execution_count": null,
   "id": "d9127f8f-96c0-4904-afee-8aa1185a1c1a",
   "metadata": {},
   "outputs": [],
   "source": []
  },
  {
   "cell_type": "code",
   "execution_count": null,
   "id": "aea5425d-3bbe-4215-951f-72b5275e1836",
   "metadata": {},
   "outputs": [],
   "source": []
  },
  {
   "cell_type": "markdown",
   "id": "9d85334f-007a-47f8-8748-664f8215f1d8",
   "metadata": {},
   "source": [
    "## Question - 12\n",
    "ans- "
   ]
  },
  {
   "cell_type": "code",
   "execution_count": 30,
   "id": "bc9aab37-9523-4aac-ba1b-5a017911b25c",
   "metadata": {},
   "outputs": [],
   "source": [
    "df_copy = df.copy()\n",
    "\n",
    "df_copy['Size'] = df_copy['Size'].str.replace('M' , '000')\n",
    "df_copy['Size'] = df_copy['Size'].str.replace('k' ,'')\n",
    "df_copy['Size'] = df_copy['Size'].replace('Varies with device' , np.nan)\n"
   ]
  },
  {
   "cell_type": "code",
   "execution_count": 31,
   "id": "a63e8293-2725-4d0d-be99-3072a45751aa",
   "metadata": {},
   "outputs": [],
   "source": [
    "df_copy = df_copy.drop(df_copy.index[10472])"
   ]
  },
  {
   "cell_type": "code",
   "execution_count": 32,
   "id": "9400a598-4c73-466c-9122-5cdc7bf6683c",
   "metadata": {},
   "outputs": [],
   "source": [
    "df_copy['Size'] = df_copy['Size'].astype(float)"
   ]
  },
  {
   "cell_type": "code",
   "execution_count": 33,
   "id": "28e7d3e1-a20f-4785-91e8-ea0e710d3f9d",
   "metadata": {},
   "outputs": [
    {
     "data": {
      "text/plain": [
       "<matplotlib.collections.PathCollection at 0x7f3f4fbcb910>"
      ]
     },
     "execution_count": 33,
     "metadata": {},
     "output_type": "execute_result"
    },
    {
     "data": {
      "image/png": "[encoded data removed]",
      "text/plain": [
       "<Figure size 1000x700 with 1 Axes>"
      ]
     },
     "metadata": {},
     "output_type": "display_data"
    }
   ],
   "source": [
    "plt.figure(figsize = (10,7))\n",
    "plt.xticks(rotation = 90)\n",
    "plt.scatter(x = df_copy['Size'] , y = df_copy['Rating'])"
   ]
  },
  {
   "cell_type": "markdown",
   "id": "03531188-d0c1-4301-8734-9211a403cb91",
   "metadata": {},
   "source": [
    "## Observation:-\n",
    "\n",
    "1. most of the small size apps are rated highly means nearly 4.5 to 5  ,  on the other side ratings are less in counts for the bigger size apps"
   ]
  },
  {
   "cell_type": "code",
   "execution_count": null,
   "id": "e9ce0551-6f83-4757-b5b5-8c5409bf7551",
   "metadata": {},
   "outputs": [],
   "source": []
  },
  {
   "cell_type": "code",
   "execution_count": null,
   "id": "f7604a61-4129-4adc-a26f-9ccd15fc2e24",
   "metadata": {},
   "outputs": [],
   "source": []
  },
  {
   "cell_type": "code",
   "execution_count": null,
   "id": "77536417-0242-4fea-999a-d056e0698102",
   "metadata": {},
   "outputs": [],
   "source": []
  },
  {
   "cell_type": "markdown",
   "id": "57ed6f9d-9ad0-4f2f-aacf-4a2ab9493a92",
   "metadata": {},
   "source": [
    "## Question - 13\n",
    "ans - "
   ]
  },
  {
   "cell_type": "code",
   "execution_count": 34,
   "id": "46a4052b-5dc0-4d6b-bdfd-5634d01aacf8",
   "metadata": {},
   "outputs": [
    {
     "data": {
      "text/html": [
       "<div>\n",
       "<style scoped>\n",
       "    .dataframe tbody tr th:only-of-type {\n",
       "        vertical-align: middle;\n",
       "    }\n",
       "\n",
       "    .dataframe tbody tr th {\n",
       "        vertical-align: top;\n",
       "    }\n",
       "\n",
       "    .dataframe thead th {\n",
       "        text-align: right;\n",
       "    }\n",
       "</style>\n",
       "<table border=\"1\" class=\"dataframe\">\n",
       "  <thead>\n",
       "    <tr style=\"text-align: right;\">\n",
       "      <th></th>\n",
       "      <th>App</th>\n",
       "      <th>Category</th>\n",
       "      <th>Rating</th>\n",
       "      <th>Reviews</th>\n",
       "      <th>Size</th>\n",
       "      <th>Installs</th>\n",
       "      <th>Type</th>\n",
       "      <th>Price</th>\n",
       "      <th>Content Rating</th>\n",
       "      <th>Genres</th>\n",
       "      <th>Last Updated</th>\n",
       "      <th>Current Ver</th>\n",
       "      <th>Android Ver</th>\n",
       "    </tr>\n",
       "  </thead>\n",
       "  <tbody>\n",
       "    <tr>\n",
       "      <th>0</th>\n",
       "      <td>Photo Editor &amp; Candy Camera &amp; Grid &amp; ScrapBook</td>\n",
       "      <td>ART_AND_DESIGN</td>\n",
       "      <td>4.1</td>\n",
       "      <td>159</td>\n",
       "      <td>19000.0</td>\n",
       "      <td>10,000+</td>\n",
       "      <td>Free</td>\n",
       "      <td>0</td>\n",
       "      <td>Everyone</td>\n",
       "      <td>Art &amp; Design</td>\n",
       "      <td>January 7, 2018</td>\n",
       "      <td>1.0.0</td>\n",
       "      <td>4.0.3 and up</td>\n",
       "    </tr>\n",
       "    <tr>\n",
       "      <th>1</th>\n",
       "      <td>Coloring book moana</td>\n",
       "      <td>ART_AND_DESIGN</td>\n",
       "      <td>3.9</td>\n",
       "      <td>967</td>\n",
       "      <td>14000.0</td>\n",
       "      <td>500,000+</td>\n",
       "      <td>Free</td>\n",
       "      <td>0</td>\n",
       "      <td>Everyone</td>\n",
       "      <td>Art &amp; Design;Pretend Play</td>\n",
       "      <td>January 15, 2018</td>\n",
       "      <td>2.0.0</td>\n",
       "      <td>4.0.3 and up</td>\n",
       "    </tr>\n",
       "    <tr>\n",
       "      <th>2</th>\n",
       "      <td>U Launcher Lite – FREE Live Cool Themes, Hide ...</td>\n",
       "      <td>ART_AND_DESIGN</td>\n",
       "      <td>4.7</td>\n",
       "      <td>87510</td>\n",
       "      <td>8.7</td>\n",
       "      <td>5,000,000+</td>\n",
       "      <td>Free</td>\n",
       "      <td>0</td>\n",
       "      <td>Everyone</td>\n",
       "      <td>Art &amp; Design</td>\n",
       "      <td>August 1, 2018</td>\n",
       "      <td>1.2.4</td>\n",
       "      <td>4.0.3 and up</td>\n",
       "    </tr>\n",
       "  </tbody>\n",
       "</table>\n",
       "</div>"
      ],
      "text/plain": [
       "                                                 App        Category  Rating  \\\n",
       "0     Photo Editor & Candy Camera & Grid & ScrapBook  ART_AND_DESIGN     4.1   \n",
       "1                                Coloring book moana  ART_AND_DESIGN     3.9   \n",
       "2  U Launcher Lite – FREE Live Cool Themes, Hide ...  ART_AND_DESIGN     4.7   \n",
       "\n",
       "  Reviews     Size    Installs  Type Price Content Rating  \\\n",
       "0     159  19000.0     10,000+  Free     0       Everyone   \n",
       "1     967  14000.0    500,000+  Free     0       Everyone   \n",
       "2   87510      8.7  5,000,000+  Free     0       Everyone   \n",
       "\n",
       "                      Genres      Last Updated Current Ver   Android Ver  \n",
       "0               Art & Design   January 7, 2018       1.0.0  4.0.3 and up  \n",
       "1  Art & Design;Pretend Play  January 15, 2018       2.0.0  4.0.3 and up  \n",
       "2               Art & Design    August 1, 2018       1.2.4  4.0.3 and up  "
      ]
     },
     "execution_count": 34,
     "metadata": {},
     "output_type": "execute_result"
    }
   ],
   "source": [
    "df_copy.head(3)"
   ]
  },
  {
   "cell_type": "code",
   "execution_count": 35,
   "id": "1c834c24-b440-4f8e-a042-91a00cb3b441",
   "metadata": {},
   "outputs": [],
   "source": [
    "df_copy['Price'] = df_copy['Price'].str.replace('$', '')"
   ]
  },
  {
   "cell_type": "code",
   "execution_count": 36,
   "id": "6a80742c-f238-4630-aeae-83cec762a71a",
   "metadata": {},
   "outputs": [],
   "source": [
    "df_copy['Price'] = df_copy['Price'].astype(float)"
   ]
  },
  {
   "cell_type": "code",
   "execution_count": 37,
   "id": "94576b5c-84a3-45a5-bee5-9f0e3088dd0b",
   "metadata": {},
   "outputs": [],
   "source": [
    "df_copy['average_price'] = df_copy['Price'].mean()"
   ]
  },
  {
   "cell_type": "code",
   "execution_count": 38,
   "id": "81c1ea05-126f-45d4-90b8-8ad89932191a",
   "metadata": {},
   "outputs": [],
   "source": [
    "df_copy = df_copy.drop(columns =['average_price'] , axis = 1 )"
   ]
  },
  {
   "cell_type": "code",
   "execution_count": 39,
   "id": "4b85b9a8-3177-4706-aefe-cbf9f7058b08",
   "metadata": {},
   "outputs": [],
   "source": [
    "average_prices = df_copy.groupby('Type')['Price'].mean().reset_index()"
   ]
  },
  {
   "cell_type": "code",
   "execution_count": 40,
   "id": "faf59d67-c718-47ec-9e66-fc11b7f50cde",
   "metadata": {},
   "outputs": [
    {
     "data": {
      "text/html": [
       "<div>\n",
       "<style scoped>\n",
       "    .dataframe tbody tr th:only-of-type {\n",
       "        vertical-align: middle;\n",
       "    }\n",
       "\n",
       "    .dataframe tbody tr th {\n",
       "        vertical-align: top;\n",
       "    }\n",
       "\n",
       "    .dataframe thead th {\n",
       "        text-align: right;\n",
       "    }\n",
       "</style>\n",
       "<table border=\"1\" class=\"dataframe\">\n",
       "  <thead>\n",
       "    <tr style=\"text-align: right;\">\n",
       "      <th></th>\n",
       "      <th>Type</th>\n",
       "      <th>Price</th>\n",
       "    </tr>\n",
       "  </thead>\n",
       "  <tbody>\n",
       "    <tr>\n",
       "      <th>0</th>\n",
       "      <td>Free</td>\n",
       "      <td>0.000000</td>\n",
       "    </tr>\n",
       "    <tr>\n",
       "      <th>1</th>\n",
       "      <td>Paid</td>\n",
       "      <td>13.920837</td>\n",
       "    </tr>\n",
       "  </tbody>\n",
       "</table>\n",
       "</div>"
      ],
      "text/plain": [
       "   Type      Price\n",
       "0  Free   0.000000\n",
       "1  Paid  13.920837"
      ]
     },
     "execution_count": 40,
     "metadata": {},
     "output_type": "execute_result"
    }
   ],
   "source": [
    "average_prices"
   ]
  },
  {
   "cell_type": "code",
   "execution_count": 41,
   "id": "628baf85-ee92-4fd3-9043-52a0369c7c04",
   "metadata": {},
   "outputs": [
    {
     "data": {
      "text/plain": [
       "<AxesSubplot: xlabel='Type', ylabel='Price'>"
      ]
     },
     "execution_count": 41,
     "metadata": {},
     "output_type": "execute_result"
    },
    {
     "data": {
      "image/png": "[encoded data removed]",
      "text/plain": [
       "<Figure size 1000x700 with 1 Axes>"
      ]
     },
     "metadata": {},
     "output_type": "display_data"
    }
   ],
   "source": [
    "plt.figure(figsize = (10,7))\n",
    "sns.barplot(x = average_prices['Type'] , y = average_prices['Price'])"
   ]
  },
  {
   "cell_type": "markdown",
   "id": "60354d46-e19b-4c34-b519-f0f241ab6d86",
   "metadata": {},
   "source": [
    "## Observation:-\n",
    "\n",
    "* . paid app have an average price of approax 14 dollar ."
   ]
  },
  {
   "cell_type": "code",
   "execution_count": null,
   "id": "c9c31a65-7f02-4a4e-a0ed-0dd4a0e8c9a0",
   "metadata": {},
   "outputs": [],
   "source": []
  },
  {
   "cell_type": "code",
   "execution_count": null,
   "id": "4f5cc399-2d08-4308-a49c-c52853f741ef",
   "metadata": {},
   "outputs": [],
   "source": []
  },
  {
   "cell_type": "code",
   "execution_count": null,
   "id": "e01cb75d-cc4e-4126-bcbf-e0acc1e76a0c",
   "metadata": {},
   "outputs": [],
   "source": []
  },
  {
   "cell_type": "markdown",
   "id": "c574b9ca-f72d-47e1-925a-a027c9e7bf38",
   "metadata": {},
   "source": [
    "## Question - 14\n",
    "ans - "
   ]
  },
  {
   "cell_type": "code",
   "execution_count": 42,
   "id": "4833e635-c412-4e96-b3ef-9fe5dc8bfc67",
   "metadata": {},
   "outputs": [
    {
     "data": {
      "text/html": [
       "<div>\n",
       "<style scoped>\n",
       "    .dataframe tbody tr th:only-of-type {\n",
       "        vertical-align: middle;\n",
       "    }\n",
       "\n",
       "    .dataframe tbody tr th {\n",
       "        vertical-align: top;\n",
       "    }\n",
       "\n",
       "    .dataframe thead th {\n",
       "        text-align: right;\n",
       "    }\n",
       "</style>\n",
       "<table border=\"1\" class=\"dataframe\">\n",
       "  <thead>\n",
       "    <tr style=\"text-align: right;\">\n",
       "      <th></th>\n",
       "      <th>App</th>\n",
       "      <th>Category</th>\n",
       "      <th>Rating</th>\n",
       "      <th>Reviews</th>\n",
       "      <th>Size</th>\n",
       "      <th>Installs</th>\n",
       "      <th>Type</th>\n",
       "      <th>Price</th>\n",
       "      <th>Content Rating</th>\n",
       "      <th>Genres</th>\n",
       "      <th>Last Updated</th>\n",
       "      <th>Current Ver</th>\n",
       "      <th>Android Ver</th>\n",
       "    </tr>\n",
       "  </thead>\n",
       "  <tbody>\n",
       "    <tr>\n",
       "      <th>0</th>\n",
       "      <td>Photo Editor &amp; Candy Camera &amp; Grid &amp; ScrapBook</td>\n",
       "      <td>ART_AND_DESIGN</td>\n",
       "      <td>4.1</td>\n",
       "      <td>159</td>\n",
       "      <td>19000.0</td>\n",
       "      <td>10,000+</td>\n",
       "      <td>Free</td>\n",
       "      <td>0.0</td>\n",
       "      <td>Everyone</td>\n",
       "      <td>Art &amp; Design</td>\n",
       "      <td>January 7, 2018</td>\n",
       "      <td>1.0.0</td>\n",
       "      <td>4.0.3 and up</td>\n",
       "    </tr>\n",
       "    <tr>\n",
       "      <th>1</th>\n",
       "      <td>Coloring book moana</td>\n",
       "      <td>ART_AND_DESIGN</td>\n",
       "      <td>3.9</td>\n",
       "      <td>967</td>\n",
       "      <td>14000.0</td>\n",
       "      <td>500,000+</td>\n",
       "      <td>Free</td>\n",
       "      <td>0.0</td>\n",
       "      <td>Everyone</td>\n",
       "      <td>Art &amp; Design;Pretend Play</td>\n",
       "      <td>January 15, 2018</td>\n",
       "      <td>2.0.0</td>\n",
       "      <td>4.0.3 and up</td>\n",
       "    </tr>\n",
       "    <tr>\n",
       "      <th>2</th>\n",
       "      <td>U Launcher Lite – FREE Live Cool Themes, Hide ...</td>\n",
       "      <td>ART_AND_DESIGN</td>\n",
       "      <td>4.7</td>\n",
       "      <td>87510</td>\n",
       "      <td>8.7</td>\n",
       "      <td>5,000,000+</td>\n",
       "      <td>Free</td>\n",
       "      <td>0.0</td>\n",
       "      <td>Everyone</td>\n",
       "      <td>Art &amp; Design</td>\n",
       "      <td>August 1, 2018</td>\n",
       "      <td>1.2.4</td>\n",
       "      <td>4.0.3 and up</td>\n",
       "    </tr>\n",
       "    <tr>\n",
       "      <th>3</th>\n",
       "      <td>Sketch - Draw &amp; Paint</td>\n",
       "      <td>ART_AND_DESIGN</td>\n",
       "      <td>4.5</td>\n",
       "      <td>215644</td>\n",
       "      <td>25000.0</td>\n",
       "      <td>50,000,000+</td>\n",
       "      <td>Free</td>\n",
       "      <td>0.0</td>\n",
       "      <td>Teen</td>\n",
       "      <td>Art &amp; Design</td>\n",
       "      <td>June 8, 2018</td>\n",
       "      <td>Varies with device</td>\n",
       "      <td>4.2 and up</td>\n",
       "    </tr>\n",
       "    <tr>\n",
       "      <th>4</th>\n",
       "      <td>Pixel Draw - Number Art Coloring Book</td>\n",
       "      <td>ART_AND_DESIGN</td>\n",
       "      <td>4.3</td>\n",
       "      <td>967</td>\n",
       "      <td>2.8</td>\n",
       "      <td>100,000+</td>\n",
       "      <td>Free</td>\n",
       "      <td>0.0</td>\n",
       "      <td>Everyone</td>\n",
       "      <td>Art &amp; Design;Creativity</td>\n",
       "      <td>June 20, 2018</td>\n",
       "      <td>1.1</td>\n",
       "      <td>4.4 and up</td>\n",
       "    </tr>\n",
       "  </tbody>\n",
       "</table>\n",
       "</div>"
      ],
      "text/plain": [
       "                                                 App        Category  Rating  \\\n",
       "0     Photo Editor & Candy Camera & Grid & ScrapBook  ART_AND_DESIGN     4.1   \n",
       "1                                Coloring book moana  ART_AND_DESIGN     3.9   \n",
       "2  U Launcher Lite – FREE Live Cool Themes, Hide ...  ART_AND_DESIGN     4.7   \n",
       "3                              Sketch - Draw & Paint  ART_AND_DESIGN     4.5   \n",
       "4              Pixel Draw - Number Art Coloring Book  ART_AND_DESIGN     4.3   \n",
       "\n",
       "  Reviews     Size     Installs  Type  Price Content Rating  \\\n",
       "0     159  19000.0      10,000+  Free    0.0       Everyone   \n",
       "1     967  14000.0     500,000+  Free    0.0       Everyone   \n",
       "2   87510      8.7   5,000,000+  Free    0.0       Everyone   \n",
       "3  215644  25000.0  50,000,000+  Free    0.0           Teen   \n",
       "4     967      2.8     100,000+  Free    0.0       Everyone   \n",
       "\n",
       "                      Genres      Last Updated         Current Ver  \\\n",
       "0               Art & Design   January 7, 2018               1.0.0   \n",
       "1  Art & Design;Pretend Play  January 15, 2018               2.0.0   \n",
       "2               Art & Design    August 1, 2018               1.2.4   \n",
       "3               Art & Design      June 8, 2018  Varies with device   \n",
       "4    Art & Design;Creativity     June 20, 2018                 1.1   \n",
       "\n",
       "    Android Ver  \n",
       "0  4.0.3 and up  \n",
       "1  4.0.3 and up  \n",
       "2  4.0.3 and up  \n",
       "3    4.2 and up  \n",
       "4    4.4 and up  "
      ]
     },
     "execution_count": 42,
     "metadata": {},
     "output_type": "execute_result"
    }
   ],
   "source": [
    "df_copy.head()"
   ]
  },
  {
   "cell_type": "code",
   "execution_count": 43,
   "id": "5820f5af-f976-426b-a5ba-013fbb8a95fd",
   "metadata": {},
   "outputs": [],
   "source": [
    "df_copy['Installs'] = df_copy['Installs'].str.replace(',','')\n",
    "df_copy['Installs'] = df_copy['Installs'].str.replace('+','')"
   ]
  },
  {
   "cell_type": "code",
   "execution_count": 44,
   "id": "1ad47e42-d399-493e-8771-c88e5d5bb0b0",
   "metadata": {},
   "outputs": [],
   "source": [
    "df_copy['Installs'] = df_copy['Installs'].astype(int)"
   ]
  },
  {
   "cell_type": "code",
   "execution_count": 45,
   "id": "5fc048d6-9a58-46e2-b826-27ceb3069200",
   "metadata": {},
   "outputs": [
    {
     "data": {
      "text/html": [
       "<div>\n",
       "<style scoped>\n",
       "    .dataframe tbody tr th:only-of-type {\n",
       "        vertical-align: middle;\n",
       "    }\n",
       "\n",
       "    .dataframe tbody tr th {\n",
       "        vertical-align: top;\n",
       "    }\n",
       "\n",
       "    .dataframe thead th {\n",
       "        text-align: right;\n",
       "    }\n",
       "</style>\n",
       "<table border=\"1\" class=\"dataframe\">\n",
       "  <thead>\n",
       "    <tr style=\"text-align: right;\">\n",
       "      <th></th>\n",
       "      <th>counts</th>\n",
       "    </tr>\n",
       "  </thead>\n",
       "  <tbody>\n",
       "    <tr>\n",
       "      <th>ROBLOX</th>\n",
       "      <td>9</td>\n",
       "    </tr>\n",
       "    <tr>\n",
       "      <th>CBS Sports App - Scores, News, Stats &amp; Watch Live</th>\n",
       "      <td>8</td>\n",
       "    </tr>\n",
       "    <tr>\n",
       "      <th>ESPN</th>\n",
       "      <td>7</td>\n",
       "    </tr>\n",
       "    <tr>\n",
       "      <th>Duolingo: Learn Languages Free</th>\n",
       "      <td>7</td>\n",
       "    </tr>\n",
       "    <tr>\n",
       "      <th>Candy Crush Saga</th>\n",
       "      <td>7</td>\n",
       "    </tr>\n",
       "    <tr>\n",
       "      <th>...</th>\n",
       "      <td>...</td>\n",
       "    </tr>\n",
       "    <tr>\n",
       "      <th>Meet U - Get Friends for Snapchat, Kik &amp; Instagram</th>\n",
       "      <td>1</td>\n",
       "    </tr>\n",
       "    <tr>\n",
       "      <th>U-Report</th>\n",
       "      <td>1</td>\n",
       "    </tr>\n",
       "    <tr>\n",
       "      <th>U of I Community Credit Union</th>\n",
       "      <td>1</td>\n",
       "    </tr>\n",
       "    <tr>\n",
       "      <th>Waiting For U Launcher Theme</th>\n",
       "      <td>1</td>\n",
       "    </tr>\n",
       "    <tr>\n",
       "      <th>iHoroscope - 2018 Daily Horoscope &amp; Astrology</th>\n",
       "      <td>1</td>\n",
       "    </tr>\n",
       "  </tbody>\n",
       "</table>\n",
       "<p>9659 rows × 1 columns</p>\n",
       "</div>"
      ],
      "text/plain": [
       "                                                    counts\n",
       "ROBLOX                                                   9\n",
       "CBS Sports App - Scores, News, Stats & Watch Live        8\n",
       "ESPN                                                     7\n",
       "Duolingo: Learn Languages Free                           7\n",
       "Candy Crush Saga                                         7\n",
       "...                                                    ...\n",
       "Meet U - Get Friends for Snapchat, Kik & Instagram       1\n",
       "U-Report                                                 1\n",
       "U of I Community Credit Union                            1\n",
       "Waiting For U Launcher Theme                             1\n",
       "iHoroscope - 2018 Daily Horoscope & Astrology            1\n",
       "\n",
       "[9659 rows x 1 columns]"
      ]
     },
     "execution_count": 45,
     "metadata": {},
     "output_type": "execute_result"
    }
   ],
   "source": [
    "df_copy['App'].value_counts()[:10]\n",
    "apps = pd.DataFrame(df_copy['App'].value_counts())\n",
    "apps.rename(columns = {'App':'counts'} , inplace = True)\n",
    "\n",
    "apps"
   ]
  },
  {
   "cell_type": "code",
   "execution_count": 46,
   "id": "371461a3-8058-4db8-a8d4-e8378a0fe0fb",
   "metadata": {},
   "outputs": [
    {
     "data": {
      "text/plain": [
       "<AxesSubplot: ylabel='counts'>"
      ]
     },
     "execution_count": 46,
     "metadata": {},
     "output_type": "execute_result"
    },
    {
     "data": {
      "image/png": "[encoded data removed]",
      "text/plain": [
       "<Figure size 1300x1000 with 1 Axes>"
      ]
     },
     "metadata": {},
     "output_type": "display_data"
    }
   ],
   "source": [
    "plt.figure(figsize = (13,10))\n",
    "plt.xticks(rotation = 90)\n",
    "\n",
    "\n",
    "sns.barplot(x = apps.index[:10] , y = 'counts' , data = apps[:10])"
   ]
  },
  {
   "cell_type": "markdown",
   "id": "c214f895-2cce-47ce-8126-8d211288d980",
   "metadata": {},
   "source": [
    "## Observation:-\n",
    "\n",
    "* .  top 10 most popular apps are ROLBOX , CBS SPORTS APP , ESPN , DUOLINGO , CANDY CRUSH SAGA , 8 BALL POOL , SLITHER.io , Bubble Shooter , Zombie Cathers and Bleacher Report"
   ]
  },
  {
   "cell_type": "code",
   "execution_count": 47,
   "id": "a035b14f-b5bf-487e-b9b0-e83fb10e974c",
   "metadata": {},
   "outputs": [
    {
     "data": {
      "text/plain": [
       "App\n",
       "Gmail                            1000000000\n",
       "Google Street View               1000000000\n",
       "Subway Surfers                   1000000000\n",
       "Facebook                         1000000000\n",
       "Skype - free IM & video calls    1000000000\n",
       "Google                           1000000000\n",
       "Google Chrome: Fast & Secure     1000000000\n",
       "Google Drive                     1000000000\n",
       "Google News                      1000000000\n",
       "Google Play Books                1000000000\n",
       "Name: Installs, dtype: int64"
      ]
     },
     "execution_count": 47,
     "metadata": {},
     "output_type": "execute_result"
    }
   ],
   "source": [
    "df_copy.groupby('App')['Installs'].max().sort_values(ascending = False)[:10]\n"
   ]
  },
  {
   "cell_type": "markdown",
   "id": "7aaab335-6fbd-4975-b70a-54368bbfb64e",
   "metadata": {},
   "source": [
    "## Observation:-\n",
    "* . According to number of installs following are the top ten apps \n",
    "1.      Gmail                       1000000000\n",
    "2. Google Street View               1000000000\n",
    "3. Subway Surfers                   1000000000\n",
    "4. Facebook                         1000000000\n",
    "5. Skype - free IM & video calls    1000000000\n",
    "6. Google                           1000000000\n",
    "7. Google Chrome: Fast & Secure     1000000000\n",
    "8. Google Drive                     1000000000\n",
    "9. Google News                      1000000000\n",
    "\n",
    "10.Google Play Books                1000000000"
   ]
  },
  {
   "cell_type": "code",
   "execution_count": null,
   "id": "abb60c17-6707-4aae-8c55-0d9fed63fffd",
   "metadata": {},
   "outputs": [],
   "source": []
  },
  {
   "cell_type": "code",
   "execution_count": null,
   "id": "ac19e73b-27a8-4f7e-9025-6f6c0b7347ca",
   "metadata": {},
   "outputs": [],
   "source": []
  },
  {
   "cell_type": "markdown",
   "id": "fc31a49e-8e5e-4f6c-80a4-e1315243b44b",
   "metadata": {},
   "source": [
    "## Question - 15 \n",
    "ans - "
   ]
  },
  {
   "cell_type": "markdown",
   "id": "1ac571db-a2c9-4ca8-80f5-7d783278e5fc",
   "metadata": {},
   "source": [
    "To identify the most popular app categories i will analyze the Category feature \n",
    "i will do value counts of Category feature to identify the most popular app category"
   ]
  },
  {
   "cell_type": "code",
   "execution_count": 48,
   "id": "105a3c12-dc63-4bc9-8987-2c5cb272835b",
   "metadata": {},
   "outputs": [],
   "source": [
    "category = pd.DataFrame(df_copy['Category'].value_counts()[:10])\n",
    "\n",
    "category.rename(columns = {'Category' : 'counts'} , inplace = True)"
   ]
  },
  {
   "cell_type": "code",
   "execution_count": 49,
   "id": "2b19b159-ffbc-4acf-b71c-ba8768eca891",
   "metadata": {},
   "outputs": [
    {
     "data": {
      "text/plain": [
       "<AxesSubplot: ylabel='counts'>"
      ]
     },
     "execution_count": 49,
     "metadata": {},
     "output_type": "execute_result"
    },
    {
     "data": {
      "image/png": "[encoded data removed]",
      "text/plain": [
       "<Figure size 1300x900 with 1 Axes>"
      ]
     },
     "metadata": {},
     "output_type": "display_data"
    }
   ],
   "source": [
    "plt.figure(figsize = (13,9))\n",
    "plt.xticks(rotation = 90)\n",
    "\n",
    "sns.barplot(x = category.index[:10] , y = 'counts' , data = category[:10])"
   ]
  },
  {
   "cell_type": "markdown",
   "id": "7033969b-8bc3-482c-97d3-3d02ee14e8af",
   "metadata": {},
   "source": [
    "## Question - \n",
    "\n",
    "*.  top 10 most popular app categories are \n",
    "\n",
    "1. Family \n",
    "2. Game\n",
    "3. Tools\n",
    "4. Medical\n",
    "5. Business\n",
    "6. Productivity\n",
    "7. Personalization\n",
    "8. Communication\n",
    "9. Sports\n",
    "10. Lifestyle"
   ]
  },
  {
   "cell_type": "code",
   "execution_count": null,
   "id": "926161cc-d057-4192-ae07-92e263776a9c",
   "metadata": {},
   "outputs": [],
   "source": []
  },
  {
   "cell_type": "code",
   "execution_count": null,
   "id": "f97150bb-4140-49f8-9f86-1e277ebbbe5d",
   "metadata": {},
   "outputs": [],
   "source": []
  },
  {
   "cell_type": "code",
   "execution_count": null,
   "id": "68181425-6666-460e-8368-377706842dfd",
   "metadata": {},
   "outputs": [],
   "source": []
  },
  {
   "cell_type": "markdown",
   "id": "2614700e-84fa-4f4c-8451-0dae936ec56f",
   "metadata": {},
   "source": [
    "## Question - 16\n",
    "ans - "
   ]
  },
  {
   "cell_type": "markdown",
   "id": "e14257a8-2d68-49d7-860d-8618744c50bc",
   "metadata": {},
   "source": [
    "i will analyze the features like Installs , Ratings, Reviews with respect to apps to find out the most successful app developer"
   ]
  },
  {
   "cell_type": "code",
   "execution_count": 50,
   "id": "737e4d85-3313-402f-965f-53df8d333d7b",
   "metadata": {},
   "outputs": [
    {
     "data": {
      "text/html": [
       "<div>\n",
       "<style scoped>\n",
       "    .dataframe tbody tr th:only-of-type {\n",
       "        vertical-align: middle;\n",
       "    }\n",
       "\n",
       "    .dataframe tbody tr th {\n",
       "        vertical-align: top;\n",
       "    }\n",
       "\n",
       "    .dataframe thead th {\n",
       "        text-align: right;\n",
       "    }\n",
       "</style>\n",
       "<table border=\"1\" class=\"dataframe\">\n",
       "  <thead>\n",
       "    <tr style=\"text-align: right;\">\n",
       "      <th></th>\n",
       "      <th>App</th>\n",
       "      <th>Category</th>\n",
       "      <th>Rating</th>\n",
       "      <th>Reviews</th>\n",
       "      <th>Size</th>\n",
       "      <th>Installs</th>\n",
       "      <th>Type</th>\n",
       "      <th>Price</th>\n",
       "      <th>Content Rating</th>\n",
       "      <th>Genres</th>\n",
       "      <th>Last Updated</th>\n",
       "      <th>Current Ver</th>\n",
       "      <th>Android Ver</th>\n",
       "    </tr>\n",
       "  </thead>\n",
       "  <tbody>\n",
       "    <tr>\n",
       "      <th>0</th>\n",
       "      <td>Photo Editor &amp; Candy Camera &amp; Grid &amp; ScrapBook</td>\n",
       "      <td>ART_AND_DESIGN</td>\n",
       "      <td>4.1</td>\n",
       "      <td>159</td>\n",
       "      <td>19000.0</td>\n",
       "      <td>10000</td>\n",
       "      <td>Free</td>\n",
       "      <td>0.0</td>\n",
       "      <td>Everyone</td>\n",
       "      <td>Art &amp; Design</td>\n",
       "      <td>January 7, 2018</td>\n",
       "      <td>1.0.0</td>\n",
       "      <td>4.0.3 and up</td>\n",
       "    </tr>\n",
       "    <tr>\n",
       "      <th>1</th>\n",
       "      <td>Coloring book moana</td>\n",
       "      <td>ART_AND_DESIGN</td>\n",
       "      <td>3.9</td>\n",
       "      <td>967</td>\n",
       "      <td>14000.0</td>\n",
       "      <td>500000</td>\n",
       "      <td>Free</td>\n",
       "      <td>0.0</td>\n",
       "      <td>Everyone</td>\n",
       "      <td>Art &amp; Design;Pretend Play</td>\n",
       "      <td>January 15, 2018</td>\n",
       "      <td>2.0.0</td>\n",
       "      <td>4.0.3 and up</td>\n",
       "    </tr>\n",
       "    <tr>\n",
       "      <th>2</th>\n",
       "      <td>U Launcher Lite – FREE Live Cool Themes, Hide ...</td>\n",
       "      <td>ART_AND_DESIGN</td>\n",
       "      <td>4.7</td>\n",
       "      <td>87510</td>\n",
       "      <td>8.7</td>\n",
       "      <td>5000000</td>\n",
       "      <td>Free</td>\n",
       "      <td>0.0</td>\n",
       "      <td>Everyone</td>\n",
       "      <td>Art &amp; Design</td>\n",
       "      <td>August 1, 2018</td>\n",
       "      <td>1.2.4</td>\n",
       "      <td>4.0.3 and up</td>\n",
       "    </tr>\n",
       "  </tbody>\n",
       "</table>\n",
       "</div>"
      ],
      "text/plain": [
       "                                                 App        Category  Rating  \\\n",
       "0     Photo Editor & Candy Camera & Grid & ScrapBook  ART_AND_DESIGN     4.1   \n",
       "1                                Coloring book moana  ART_AND_DESIGN     3.9   \n",
       "2  U Launcher Lite – FREE Live Cool Themes, Hide ...  ART_AND_DESIGN     4.7   \n",
       "\n",
       "  Reviews     Size  Installs  Type  Price Content Rating  \\\n",
       "0     159  19000.0     10000  Free    0.0       Everyone   \n",
       "1     967  14000.0    500000  Free    0.0       Everyone   \n",
       "2   87510      8.7   5000000  Free    0.0       Everyone   \n",
       "\n",
       "                      Genres      Last Updated Current Ver   Android Ver  \n",
       "0               Art & Design   January 7, 2018       1.0.0  4.0.3 and up  \n",
       "1  Art & Design;Pretend Play  January 15, 2018       2.0.0  4.0.3 and up  \n",
       "2               Art & Design    August 1, 2018       1.2.4  4.0.3 and up  "
      ]
     },
     "execution_count": 50,
     "metadata": {},
     "output_type": "execute_result"
    }
   ],
   "source": [
    "df_copy.head(3)"
   ]
  },
  {
   "cell_type": "code",
   "execution_count": 56,
   "id": "d80ed4b5-671f-42bf-aa7f-850ec62c4151",
   "metadata": {},
   "outputs": [],
   "source": [
    "df_copy['Rating'] = df_copy['Rating'].fillna(df_copy['Rating'].mean())"
   ]
  },
  {
   "cell_type": "code",
   "execution_count": 90,
   "id": "e6105ec4-1009-4541-843d-6cc86c632122",
   "metadata": {},
   "outputs": [
    {
     "data": {
      "text/plain": [
       "Index(['App', 'Category', 'Rating', 'Reviews', 'Size', 'Installs', 'Type',\n",
       "       'Price', 'Content Rating', 'Genres', 'Last Updated', 'Current Ver',\n",
       "       'Android Ver', 'Day', 'Month', 'Year'],\n",
       "      dtype='object')"
      ]
     },
     "execution_count": 90,
     "metadata": {},
     "output_type": "execute_result"
    }
   ],
   "source": [
    "df_copy.columns\n"
   ]
  },
  {
   "cell_type": "code",
   "execution_count": 125,
   "id": "5e299ad1-f888-47e0-ac90-9acc5d1edf1f",
   "metadata": {},
   "outputs": [
    {
     "data": {
      "text/html": [
       "<div>\n",
       "<style scoped>\n",
       "    .dataframe tbody tr th:only-of-type {\n",
       "        vertical-align: middle;\n",
       "    }\n",
       "\n",
       "    .dataframe tbody tr th {\n",
       "        vertical-align: top;\n",
       "    }\n",
       "\n",
       "    .dataframe thead th {\n",
       "        text-align: right;\n",
       "    }\n",
       "</style>\n",
       "<table border=\"1\" class=\"dataframe\">\n",
       "  <thead>\n",
       "    <tr style=\"text-align: right;\">\n",
       "      <th></th>\n",
       "      <th>Rating</th>\n",
       "      <th>Reviews</th>\n",
       "    </tr>\n",
       "    <tr>\n",
       "      <th>App</th>\n",
       "      <th></th>\n",
       "      <th></th>\n",
       "    </tr>\n",
       "  </thead>\n",
       "  <tbody>\n",
       "    <tr>\n",
       "      <th>Master E.K</th>\n",
       "      <td>5.0</td>\n",
       "      <td>90</td>\n",
       "    </tr>\n",
       "    <tr>\n",
       "      <th>AJ RETAILS</th>\n",
       "      <td>5.0</td>\n",
       "      <td>9</td>\n",
       "    </tr>\n",
       "    <tr>\n",
       "      <th>DW Timer</th>\n",
       "      <td>5.0</td>\n",
       "      <td>9</td>\n",
       "    </tr>\n",
       "    <tr>\n",
       "      <th>EB Scanner</th>\n",
       "      <td>5.0</td>\n",
       "      <td>9</td>\n",
       "    </tr>\n",
       "    <tr>\n",
       "      <th>211:CK</th>\n",
       "      <td>5.0</td>\n",
       "      <td>8</td>\n",
       "    </tr>\n",
       "    <tr>\n",
       "      <th>...</th>\n",
       "      <td>...</td>\n",
       "      <td>...</td>\n",
       "    </tr>\n",
       "    <tr>\n",
       "      <th>House party - live chat</th>\n",
       "      <td>1.0</td>\n",
       "      <td>1</td>\n",
       "    </tr>\n",
       "    <tr>\n",
       "      <th>MbH BM</th>\n",
       "      <td>1.0</td>\n",
       "      <td>1</td>\n",
       "    </tr>\n",
       "    <tr>\n",
       "      <th>Speech Therapy: F</th>\n",
       "      <td>1.0</td>\n",
       "      <td>1</td>\n",
       "    </tr>\n",
       "    <tr>\n",
       "      <th>Thistletown CI</th>\n",
       "      <td>1.0</td>\n",
       "      <td>1</td>\n",
       "    </tr>\n",
       "    <tr>\n",
       "      <th>Truck Driving Test Class 3 BC</th>\n",
       "      <td>1.0</td>\n",
       "      <td>1</td>\n",
       "    </tr>\n",
       "  </tbody>\n",
       "</table>\n",
       "<p>9659 rows × 2 columns</p>\n",
       "</div>"
      ],
      "text/plain": [
       "                               Rating Reviews\n",
       "App                                          \n",
       "Master E.K                        5.0      90\n",
       "AJ RETAILS                        5.0       9\n",
       "DW Timer                          5.0       9\n",
       "EB Scanner                        5.0       9\n",
       "211:CK                            5.0       8\n",
       "...                               ...     ...\n",
       "House party - live chat           1.0       1\n",
       "MbH BM                            1.0       1\n",
       "Speech Therapy: F                 1.0       1\n",
       "Thistletown CI                    1.0       1\n",
       "Truck Driving Test Class 3 BC     1.0       1\n",
       "\n",
       "[9659 rows x 2 columns]"
      ]
     },
     "execution_count": 125,
     "metadata": {},
     "output_type": "execute_result"
    }
   ],
   "source": [
    "data = df_copy[['App' , 'Rating' , 'Reviews' ,]]\n",
    "\n",
    "data.groupby('App')[['Rating', 'Reviews']].max().sort_values(by = ['Rating' , 'Reviews'] , ascending = False)"
   ]
  },
  {
   "cell_type": "code",
   "execution_count": 140,
   "id": "93bb56d3-2072-48c1-9a3b-f337e880b870",
   "metadata": {},
   "outputs": [
    {
     "data": {
      "text/html": [
       "<div>\n",
       "<style scoped>\n",
       "    .dataframe tbody tr th:only-of-type {\n",
       "        vertical-align: middle;\n",
       "    }\n",
       "\n",
       "    .dataframe tbody tr th {\n",
       "        vertical-align: top;\n",
       "    }\n",
       "\n",
       "    .dataframe thead th {\n",
       "        text-align: right;\n",
       "    }\n",
       "</style>\n",
       "<table border=\"1\" class=\"dataframe\">\n",
       "  <thead>\n",
       "    <tr style=\"text-align: right;\">\n",
       "      <th></th>\n",
       "      <th>App</th>\n",
       "      <th>Rating</th>\n",
       "      <th>Reviews</th>\n",
       "    </tr>\n",
       "  </thead>\n",
       "  <tbody>\n",
       "    <tr>\n",
       "      <th>9496</th>\n",
       "      <td>Master E.K</td>\n",
       "      <td>5.0</td>\n",
       "      <td>90</td>\n",
       "    </tr>\n",
       "    <tr>\n",
       "      <th>5245</th>\n",
       "      <td>AJ RETAILS</td>\n",
       "      <td>5.0</td>\n",
       "      <td>9</td>\n",
       "    </tr>\n",
       "    <tr>\n",
       "      <th>9008</th>\n",
       "      <td>DW Timer</td>\n",
       "      <td>5.0</td>\n",
       "      <td>9</td>\n",
       "    </tr>\n",
       "    <tr>\n",
       "      <th>9188</th>\n",
       "      <td>EB Scanner</td>\n",
       "      <td>5.0</td>\n",
       "      <td>9</td>\n",
       "    </tr>\n",
       "    <tr>\n",
       "      <th>5795</th>\n",
       "      <td>Axe Champs! Wars</td>\n",
       "      <td>5.0</td>\n",
       "      <td>8</td>\n",
       "    </tr>\n",
       "  </tbody>\n",
       "</table>\n",
       "</div>"
      ],
      "text/plain": [
       "                   App  Rating Reviews\n",
       "9496        Master E.K     5.0      90\n",
       "5245        AJ RETAILS     5.0       9\n",
       "9008          DW Timer     5.0       9\n",
       "9188        EB Scanner     5.0       9\n",
       "5795  Axe Champs! Wars     5.0       8"
      ]
     },
     "execution_count": 140,
     "metadata": {},
     "output_type": "execute_result"
    }
   ],
   "source": [
    "sorted_data = data.sort_values(by = ['Rating' , 'Reviews'] , ascending = [False , False])\n",
    "\n",
    "top_apps = sorted_data.head(5)[['App' , 'Rating' , 'Reviews']] \n",
    "\n",
    "top_apps"
   ]
  },
  {
   "cell_type": "code",
   "execution_count": null,
   "id": "e6560443-4abd-4a30-91d0-4b5814a92d9e",
   "metadata": {},
   "outputs": [],
   "source": [
    "i will "
   ]
  },
  {
   "cell_type": "markdown",
   "id": "aa9a44ce-5b6a-4907-8921-b8b84cabf18b",
   "metadata": {},
   "source": [
    "## Question - 17\n",
    "ans - "
   ]
  },
  {
   "cell_type": "code",
   "execution_count": 61,
   "id": "54361a2d-f492-44d7-beb8-2174673f576c",
   "metadata": {},
   "outputs": [],
   "source": [
    "df_copy['Last Updated'] = pd.to_datetime(df_copy['Last Updated'])\n",
    "df_copy['Day'] = df_copy['Last Updated'].dt.day\n",
    "df_copy['Month'] = df_copy['Last Updated'].dt.month\n",
    "df_copy['Year'] = df_copy['Last Updated'].dt.year"
   ]
  },
  {
   "cell_type": "code",
   "execution_count": 91,
   "id": "391cab73-7e6f-4c77-a140-d358418667b2",
   "metadata": {},
   "outputs": [
    {
     "data": {
      "text/plain": [
       "<BarContainer object of 10840 artists>"
      ]
     },
     "execution_count": 91,
     "metadata": {},
     "output_type": "execute_result"
    },
    {
     "data": {
      "image/png": "[encoded data removed]",
      "text/plain": [
       "<Figure size 800x600 with 1 Axes>"
      ]
     },
     "metadata": {},
     "output_type": "display_data"
    }
   ],
   "source": [
    "plt.figure(figsize = (8,6))\n",
    "plt.bar(df_copy['Month'] , df_copy['Installs'])"
   ]
  },
  {
   "cell_type": "markdown",
   "id": "dcd93f24-ddae-40f5-b096-28265854132f",
   "metadata": {},
   "source": [
    "## Observation  -  \n",
    "\n",
    "* .  in the month of july and august maximum number of installations occurs , so it is recommended to launch a new app in the july and august month\n",
    "\n",
    "* .  and it is also recommended to not to launch a new app in the month of october because there are the mimimum installations occurs."
   ]
  },
  {
   "cell_type": "code",
   "execution_count": null,
   "id": "9675dae6-80f3-4e43-97e2-5ce93acc6e23",
   "metadata": {},
   "outputs": [],
   "source": []
  }
 ],
 "metadata": {
  "kernelspec": {
   "display_name": "Python 3 (ipykernel)",
   "language": "python",
   "name": "python3"
  },
  "language_info": {
   "codemirror_mode": {
    "name": "ipython",
    "version": 3
   },
   "file_extension": ".py",
   "mimetype": "text/x-python",
   "name": "python",
   "nbconvert_exporter": "python",
   "pygments_lexer": "ipython3",
   "version": "3.10.8"
  }
 },
 "nbformat": 4,
 "nbformat_minor": 5
}
